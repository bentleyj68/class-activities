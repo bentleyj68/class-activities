{
 "cells": [
  {
   "cell_type": "code",
   "execution_count": 4,
   "metadata": {},
   "outputs": [],
   "source": [
    "import requests\n",
    "import json\n",
    "from config import api_key"
   ]
  },
  {
   "cell_type": "code",
   "execution_count": 5,
   "metadata": {},
   "outputs": [],
   "source": [
    "# New Dependency! Use this to pretty print the JSON\n",
    "# https://docs.python.org/3/library/pprint.html\n",
    "from pprint import pprint"
   ]
  },
  {
   "cell_type": "code",
   "execution_count": 6,
   "metadata": {},
   "outputs": [],
   "source": [
    "# Note that the ?t= is a query param for the t-itle of the\n",
    "# movie we want to search for.\n",
    "url = \"http://www.omdbapi.com/?t=\"\n",
    "api_key = \"&apikey=\" + api_key"
   ]
  },
  {
   "cell_type": "code",
   "execution_count": 7,
   "metadata": {},
   "outputs": [],
   "source": [
    "# Performing a GET request similar to the one we executed\n",
    "# earlier\n",
    "response = requests.get(url + \"Top Gun\" + api_key)"
   ]
  },
  {
   "cell_type": "code",
   "execution_count": 8,
   "metadata": {},
   "outputs": [
    {
     "output_type": "stream",
     "name": "stdout",
     "text": [
      "{'Actors': 'Tom Cruise, Kelly McGillis, Val Kilmer, Anthony Edwards',\n 'Awards': 'Won 1 Oscar. Another 10 wins & 5 nominations.',\n 'BoxOffice': '$179,800,601',\n 'Country': 'USA',\n 'DVD': 'N/A',\n 'Director': 'Tony Scott',\n 'Genre': 'Action, Drama',\n 'Language': 'English',\n 'Metascore': '50',\n 'Plot': \"As students at the United States Navy's elite fighter weapons school \"\n         'compete to be best in the class, one daring young pilot learns a few '\n         'things from a civilian instructor that are not taught in the '\n         'classroom.',\n 'Poster': 'https://m.media-amazon.com/images/M/MV5BZjQxYTA3ODItNzgxMy00N2Y2LWJlZGMtMTRlM2JkZjI1ZDhhXkEyXkFqcGdeQXVyNDk3NzU2MTQ@._V1_SX300.jpg',\n 'Production': 'Paramount Pictures',\n 'Rated': 'PG',\n 'Ratings': [{'Source': 'Internet Movie Database', 'Value': '6.9/10'},\n             {'Source': 'Rotten Tomatoes', 'Value': '54%'},\n             {'Source': 'Metacritic', 'Value': '50/100'}],\n 'Released': '16 May 1986',\n 'Response': 'True',\n 'Runtime': '110 min',\n 'Title': 'Top Gun',\n 'Type': 'movie',\n 'Website': 'N/A',\n 'Writer': 'Jim Cash, Jack Epps Jr., Ehud Yonay (magazine article \"Top Guns\")',\n 'Year': '1986',\n 'imdbID': 'tt0092099',\n 'imdbRating': '6.9',\n 'imdbVotes': '294,784'}\n"
     ]
    }
   ],
   "source": [
    "# Converting the response to JSON, and printing the result.\n",
    "data = response.json()\n",
    "pprint(data)"
   ]
  },
  {
   "cell_type": "code",
   "execution_count": 9,
   "metadata": {},
   "outputs": [
    {
     "output_type": "stream",
     "name": "stdout",
     "text": [
      "Movie was directed by Tony Scott.\nMovie was released in USA.\n"
     ]
    }
   ],
   "source": [
    "# Print a few keys from the response JSON.\n",
    "print(f\"Movie was directed by {data['Director']}.\")\n",
    "print(f\"Movie was released in {data['Country']}.\")"
   ]
  },
  {
   "cell_type": "code",
   "execution_count": 10,
   "metadata": {},
   "outputs": [
    {
     "output_type": "stream",
     "name": "stdout",
     "text": [
      "Movie was directed by James Cameron.\n"
     ]
    }
   ],
   "source": [
    "response = requests.get(url + \"Aliens\" + api_key)\n",
    "data = response.json()\n",
    "print(f\"Movie was directed by {data['Director']}.\")"
   ]
  },
  {
   "cell_type": "code",
   "execution_count": 10,
   "metadata": {},
   "outputs": [
    {
     "output_type": "stream",
     "name": "stdout",
     "text": [
      "Gladiator is rated R.\n"
     ]
    }
   ],
   "source": [
    "response = requests.get(url + \"Gladiator\" + api_key)\n",
    "data = response.json()\n",
    "print(f\"{data['Title']} is rated {data['Rated']}.\")"
   ]
  },
  {
   "cell_type": "code",
   "execution_count": 11,
   "metadata": {},
   "outputs": [
    {
     "output_type": "stream",
     "name": "stdout",
     "text": [
      "50 First Dates was released in 2004.\n"
     ]
    }
   ],
   "source": [
    "response = requests.get(url + \"50 First Dates\" + api_key)\n",
    "data = response.json()\n",
    "print(f\"{data['Title']} was released in {data['Year']}.\")"
   ]
  },
  {
   "cell_type": "code",
   "execution_count": null,
   "metadata": {},
   "outputs": [],
   "source": []
  }
 ],
 "metadata": {
  "kernelspec": {
   "display_name": "Python 3",
   "language": "python",
   "name": "python3"
  },
  "language_info": {
   "codemirror_mode": {
    "name": "ipython",
    "version": 3
   },
   "file_extension": ".py",
   "mimetype": "text/x-python",
   "name": "python",
   "nbconvert_exporter": "python",
   "pygments_lexer": "ipython3",
   "version": "3.6.10-final"
  },
  "varInspector": {
   "cols": {
    "lenName": 16,
    "lenType": 16,
    "lenVar": 40
   },
   "kernels_config": {
    "python": {
     "delete_cmd_postfix": "",
     "delete_cmd_prefix": "del ",
     "library": "var_list.py",
     "varRefreshCmd": "print(var_dic_list())"
    },
    "r": {
     "delete_cmd_postfix": ") ",
     "delete_cmd_prefix": "rm(",
     "library": "var_list.r",
     "varRefreshCmd": "cat(var_dic_list()) "
    }
   },
   "types_to_exclude": [
    "module",
    "function",
    "builtin_function_or_method",
    "instance",
    "_Feature"
   ],
   "window_display": false
  }
 },
 "nbformat": 4,
 "nbformat_minor": 2
}