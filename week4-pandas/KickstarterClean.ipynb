{
 "cells": [
  {
   "cell_type": "code",
   "execution_count": 14,
   "metadata": {
    "collapsed": true
   },
   "outputs": [],
   "source": [
    "import pandas as pd"
   ]
  },
  {
   "cell_type": "code",
   "execution_count": 15,
   "metadata": {
    "collapsed": true
   },
   "outputs": [],
   "source": [
    "# The path to our CSV file\n",
    "csv_path = \"Resources/KickstarterData.csv\"\n",
    "\n",
    "# Read our Kickstarter data into pandas\n",
    "kickstarter_df = pd.read_csv(csv_path)"
   ]
  },
  {
   "cell_type": "code",
   "execution_count": 16,
   "metadata": {
    "collapsed": true
   },
   "outputs": [
    {
     "output_type": "execute_result",
     "data": {
      "text/plain": [
       "Index(['id', 'photo', 'name', 'blurb', 'goal', 'pledged', 'state', 'slug',\n",
       "       'disable_communication', 'country', 'currency', 'currency_symbol',\n",
       "       'currency_trailing_code', 'deadline', 'state_changed_at', 'created_at',\n",
       "       'launched_at', 'staff_pick', 'is_starrable', 'backers_count',\n",
       "       'static_usd_rate', 'usd_pledged', 'creator', 'location', 'category',\n",
       "       'profile', 'spotlight', 'urls', 'source_url', 'friends', 'is_starred',\n",
       "       'is_backing', 'permissions'],\n",
       "      dtype='object')"
      ]
     },
     "metadata": {},
     "execution_count": 16
    }
   ],
   "source": [
    "# Get a list of all of our columns for easy reference\n",
    "kickstarter_df.columns"
   ]
  },
  {
   "cell_type": "code",
   "execution_count": 17,
   "metadata": {
    "collapsed": true,
    "scrolled": true
   },
   "outputs": [
    {
     "output_type": "execute_result",
     "data": {
      "text/plain": [
       "                                                name    goal  pledged  \\\n",
       "0  The Class Act Players Theatre Company Presents...  1500.0   2925.0   \n",
       "1  MR INCREDIBLE by Camilla Whitehill - VAULT Fes...  2500.0   2936.0   \n",
       "2                                                RUN  1000.0   1200.0   \n",
       "3  9th International Meeting of Youth Theatre sap...  2000.0   2135.0   \n",
       "4                        Get Conti to the Ed Fringe!  1000.0   1250.0   \n",
       "\n",
       "        state country  staff_pick  backers_count  spotlight  \n",
       "0  successful      US       False             17       True  \n",
       "1  successful      GB        True             15       True  \n",
       "2  successful      GB       False             30       True  \n",
       "3  successful      IT       False             24       True  \n",
       "4  successful      GB       False             28       True  "
      ],
      "text/html": "<div>\n<style scoped>\n    .dataframe tbody tr th:only-of-type {\n        vertical-align: middle;\n    }\n\n    .dataframe tbody tr th {\n        vertical-align: top;\n    }\n\n    .dataframe thead th {\n        text-align: right;\n    }\n</style>\n<table border=\"1\" class=\"dataframe\">\n  <thead>\n    <tr style=\"text-align: right;\">\n      <th></th>\n      <th>name</th>\n      <th>goal</th>\n      <th>pledged</th>\n      <th>state</th>\n      <th>country</th>\n      <th>staff_pick</th>\n      <th>backers_count</th>\n      <th>spotlight</th>\n    </tr>\n  </thead>\n  <tbody>\n    <tr>\n      <th>0</th>\n      <td>The Class Act Players Theatre Company Presents...</td>\n      <td>1500.0</td>\n      <td>2925.0</td>\n      <td>successful</td>\n      <td>US</td>\n      <td>False</td>\n      <td>17</td>\n      <td>True</td>\n    </tr>\n    <tr>\n      <th>1</th>\n      <td>MR INCREDIBLE by Camilla Whitehill - VAULT Fes...</td>\n      <td>2500.0</td>\n      <td>2936.0</td>\n      <td>successful</td>\n      <td>GB</td>\n      <td>True</td>\n      <td>15</td>\n      <td>True</td>\n    </tr>\n    <tr>\n      <th>2</th>\n      <td>RUN</td>\n      <td>1000.0</td>\n      <td>1200.0</td>\n      <td>successful</td>\n      <td>GB</td>\n      <td>False</td>\n      <td>30</td>\n      <td>True</td>\n    </tr>\n    <tr>\n      <th>3</th>\n      <td>9th International Meeting of Youth Theatre sap...</td>\n      <td>2000.0</td>\n      <td>2135.0</td>\n      <td>successful</td>\n      <td>IT</td>\n      <td>False</td>\n      <td>24</td>\n      <td>True</td>\n    </tr>\n    <tr>\n      <th>4</th>\n      <td>Get Conti to the Ed Fringe!</td>\n      <td>1000.0</td>\n      <td>1250.0</td>\n      <td>successful</td>\n      <td>GB</td>\n      <td>False</td>\n      <td>28</td>\n      <td>True</td>\n    </tr>\n  </tbody>\n</table>\n</div>"
     },
     "metadata": {},
     "execution_count": 17
    }
   ],
   "source": [
    "# Extract \"name\", \"goal\", \"pledged\", \"state\", \"country\", \"staff_pick\",\n",
    "# \"backers_count\", and \"spotlight\"\n",
    "ks_df = kickstarter_df[[ \"name\", \"goal\", \"pledged\", \"state\", \"country\", \"staff_pick\", \"backers_count\", \"spotlight\"]]\n",
    "ks_df.head()"
   ]
  },
  {
   "cell_type": "code",
   "execution_count": 18,
   "metadata": {
    "collapsed": true,
    "scrolled": true
   },
   "outputs": [],
   "source": [
    "# Remove projects that made no money at all\n",
    "ks_df = ks_df[ks_df[\"pledged\"] > 0]\n"
   ]
  },
  {
   "cell_type": "code",
   "execution_count": 25,
   "metadata": {
    "collapsed": true,
    "scrolled": true
   },
   "outputs": [
    {
     "output_type": "stream",
     "name": "stdout",
     "text": [
      "name             The Class Act Players Theatre Company Presents...\ngoal                                                          1500\npledged                                                       2925\nstate                                                   successful\ncountry                                                         US\nstaff_pick                                                   False\nbackers_count                                                   17\nspotlight                                                     True\nName: 0, dtype: object\n"
     ]
    }
   ],
   "source": [
    "# Collect only those projects that were hosted in the US\n",
    "only_us = ks_df.loc[ks_df[\"country\"] == \"US\", : ]\n",
    "\n",
    "# Create a list of the columns\n",
    "column_list = ks_df.iloc[0,:]\n",
    "print(column_list)\n",
    "# Create a new df for \"US\" with the columns above. "
   ]
  },
  {
   "cell_type": "code",
   "execution_count": null,
   "metadata": {
    "collapsed": true
   },
   "outputs": [],
   "source": [
    "# Create a new column that finds the average amount pledged to a project"
   ]
  },
  {
   "cell_type": "code",
   "execution_count": null,
   "metadata": {
    "collapsed": true
   },
   "outputs": [],
   "source": [
    "# First convert \"average_donation\", \"goal\", and \"pledged\" columns to float\n",
    "# Then Format to go to two decimal places, include a dollar sign, and use comma notation"
   ]
  },
  {
   "cell_type": "code",
   "execution_count": null,
   "metadata": {
    "collapsed": true
   },
   "outputs": [],
   "source": [
    "# Calculate the total number of backers for all US projects"
   ]
  },
  {
   "cell_type": "code",
   "execution_count": null,
   "metadata": {
    "collapsed": true
   },
   "outputs": [],
   "source": [
    "# Calculate the average number of backers for all US projects"
   ]
  },
  {
   "cell_type": "code",
   "execution_count": null,
   "metadata": {
    "collapsed": true,
    "scrolled": true
   },
   "outputs": [],
   "source": [
    "# Collect only those US campaigns that have been picked as a \"Staff Pick\""
   ]
  },
  {
   "cell_type": "code",
   "execution_count": null,
   "metadata": {
    "collapsed": true
   },
   "outputs": [],
   "source": [
    "# Group by the state of the campaigns and see if staff picks matter (Seems to matter quite a bit)"
   ]
  }
 ],
 "metadata": {
  "kernelspec": {
   "name": "python3",
   "display_name": "Python 3.6.10 64-bit ('PythonData': conda)",
   "metadata": {
    "interpreter": {
     "hash": "2bf60f7f62a9b17f7cccd910bdb7d19f5f505debd48b14e89e2e5eef6906d64c"
    }
   }
  },
  "language_info": {
   "codemirror_mode": {
    "name": "ipython",
    "version": 3
   },
   "file_extension": ".py",
   "mimetype": "text/x-python",
   "name": "python",
   "nbconvert_exporter": "python",
   "pygments_lexer": "ipython3",
   "version": "3.6.10-final"
  }
 },
 "nbformat": 4,
 "nbformat_minor": 2
}