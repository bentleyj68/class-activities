{
 "cells": [
  {
   "cell_type": "code",
   "execution_count": 1,
   "metadata": {
    "collapsed": true
   },
   "outputs": [],
   "source": [
    "# Pandas\n",
    "import pandas as pd\n",
    "\n",
    "# SQL Alchemy\n",
    "from sqlalchemy import create_engine"
   ]
  },
  {
   "cell_type": "code",
   "execution_count": 2,
   "metadata": {},
   "outputs": [],
   "source": [
    "# Create a connection to the Census database\n",
    "database_path = 'Resources/Census_Data.sqlite'\n",
    "engine = create_engine(f\"sqlite:///{database_path}\")\n",
    "conn = engine.connect()"
   ]
  },
  {
   "cell_type": "code",
   "execution_count": 9,
   "metadata": {
    "collapsed": true
   },
   "outputs": [],
   "source": [
    "# Query All Records in the the Census Table\n",
    "data = pd.read_sql(\"SELECT * FROM Census_Data\", conn)"
   ]
  },
  {
   "cell_type": "code",
   "execution_count": 12,
   "metadata": {},
   "outputs": [],
   "source": [
    "# Create a connection to the Zip database\n",
    "zip_database_path = 'Resources/zip_census.sqlite'\n",
    "zip_engine = create_engine(f\"sqlite:///{zip_database_path}\")\n",
    "zip_conn = zip_engine.connect()"
   ]
  },
  {
   "cell_type": "code",
   "execution_count": 13,
   "metadata": {
    "collapsed": true
   },
   "outputs": [],
   "source": [
    "# Query All Records in the Zip Table\n",
    "zip_data = pd.read_sql(\"SELECT * FROM Zip_Census\", zip_conn)"
   ]
  },
  {
   "cell_type": "code",
   "execution_count": 16,
   "metadata": {
    "collapsed": true
   },
   "outputs": [],
   "source": [
    "# Merge the columns\n",
    "merge_df = pd.merge(data, zip_data, on='CityState', how='inner')"
   ]
  },
  {
   "cell_type": "code",
   "execution_count": 17,
   "metadata": {},
   "outputs": [
    {
     "output_type": "execute_result",
     "data": {
      "text/plain": [
       "         CityState       city_x state_x  Population_x  White Population_x  \\\n",
       "0  SPRINGFIELD, MA  SPRINGFIELD      MA        144780               79365   \n",
       "1  SPRINGFIELD, MA  SPRINGFIELD      MA        144780               79365   \n",
       "2  SPRINGFIELD, MA  SPRINGFIELD      MA        144780               79365   \n",
       "3  SPRINGFIELD, MA  SPRINGFIELD      MA        144780               79365   \n",
       "4  SPRINGFIELD, MA  SPRINGFIELD      MA        144780               79365   \n",
       "\n",
       "   Black Population_x  Native American Population_x  Asian Population_x  \\\n",
       "0               30997                           777                2991   \n",
       "1               30997                           777                2991   \n",
       "2               30997                           777                2991   \n",
       "3               30997                           777                2991   \n",
       "4               30997                           777                2991   \n",
       "\n",
       "   Hispanic Population_x  Education None_x  ...  Employment Unemployed_y  \\\n",
       "0                  61579              2325  ...                      192   \n",
       "1                  61579              2325  ...                     1495   \n",
       "2                  61579              2325  ...                      827   \n",
       "3                  61579              2325  ...                      971   \n",
       "4                  61579              2325  ...                     1532   \n",
       "\n",
       "   Median Gross Rent_y  Median Home Value_y  \\\n",
       "0                  793               103100   \n",
       "1                  799               131200   \n",
       "2                  710               130700   \n",
       "3                  652               154000   \n",
       "4                  890               148200   \n",
       "\n",
       "   Employment Male Computer Engineering_y  \\\n",
       "0                                      21   \n",
       "1                                      87   \n",
       "2                                      32   \n",
       "3                                      65   \n",
       "4                                     134   \n",
       "\n",
       "   Employment Female Computer Engineering_y  zipcode      lat_y      lng_y  \\\n",
       "0                                        17    01103  42.104106 -72.592027   \n",
       "1                                        25    01104  42.134009 -72.565378   \n",
       "2                                         0    01105  42.099958 -72.580765   \n",
       "3                                        13    01107  42.121060 -72.607068   \n",
       "4                                        62    01108  42.080692 -72.560791   \n",
       "\n",
       "        city_y  state_y  \n",
       "0  SPRINGFIELD       MA  \n",
       "1  SPRINGFIELD       MA  \n",
       "2  SPRINGFIELD       MA  \n",
       "3  SPRINGFIELD       MA  \n",
       "4  SPRINGFIELD       MA  \n",
       "\n",
       "[5 rows x 62 columns]"
      ],
      "text/html": "<div>\n<style scoped>\n    .dataframe tbody tr th:only-of-type {\n        vertical-align: middle;\n    }\n\n    .dataframe tbody tr th {\n        vertical-align: top;\n    }\n\n    .dataframe thead th {\n        text-align: right;\n    }\n</style>\n<table border=\"1\" class=\"dataframe\">\n  <thead>\n    <tr style=\"text-align: right;\">\n      <th></th>\n      <th>CityState</th>\n      <th>city_x</th>\n      <th>state_x</th>\n      <th>Population_x</th>\n      <th>White Population_x</th>\n      <th>Black Population_x</th>\n      <th>Native American Population_x</th>\n      <th>Asian Population_x</th>\n      <th>Hispanic Population_x</th>\n      <th>Education None_x</th>\n      <th>...</th>\n      <th>Employment Unemployed_y</th>\n      <th>Median Gross Rent_y</th>\n      <th>Median Home Value_y</th>\n      <th>Employment Male Computer Engineering_y</th>\n      <th>Employment Female Computer Engineering_y</th>\n      <th>zipcode</th>\n      <th>lat_y</th>\n      <th>lng_y</th>\n      <th>city_y</th>\n      <th>state_y</th>\n    </tr>\n  </thead>\n  <tbody>\n    <tr>\n      <th>0</th>\n      <td>SPRINGFIELD, MA</td>\n      <td>SPRINGFIELD</td>\n      <td>MA</td>\n      <td>144780</td>\n      <td>79365</td>\n      <td>30997</td>\n      <td>777</td>\n      <td>2991</td>\n      <td>61579</td>\n      <td>2325</td>\n      <td>...</td>\n      <td>192</td>\n      <td>793</td>\n      <td>103100</td>\n      <td>21</td>\n      <td>17</td>\n      <td>01103</td>\n      <td>42.104106</td>\n      <td>-72.592027</td>\n      <td>SPRINGFIELD</td>\n      <td>MA</td>\n    </tr>\n    <tr>\n      <th>1</th>\n      <td>SPRINGFIELD, MA</td>\n      <td>SPRINGFIELD</td>\n      <td>MA</td>\n      <td>144780</td>\n      <td>79365</td>\n      <td>30997</td>\n      <td>777</td>\n      <td>2991</td>\n      <td>61579</td>\n      <td>2325</td>\n      <td>...</td>\n      <td>1495</td>\n      <td>799</td>\n      <td>131200</td>\n      <td>87</td>\n      <td>25</td>\n      <td>01104</td>\n      <td>42.134009</td>\n      <td>-72.565378</td>\n      <td>SPRINGFIELD</td>\n      <td>MA</td>\n    </tr>\n    <tr>\n      <th>2</th>\n      <td>SPRINGFIELD, MA</td>\n      <td>SPRINGFIELD</td>\n      <td>MA</td>\n      <td>144780</td>\n      <td>79365</td>\n      <td>30997</td>\n      <td>777</td>\n      <td>2991</td>\n      <td>61579</td>\n      <td>2325</td>\n      <td>...</td>\n      <td>827</td>\n      <td>710</td>\n      <td>130700</td>\n      <td>32</td>\n      <td>0</td>\n      <td>01105</td>\n      <td>42.099958</td>\n      <td>-72.580765</td>\n      <td>SPRINGFIELD</td>\n      <td>MA</td>\n    </tr>\n    <tr>\n      <th>3</th>\n      <td>SPRINGFIELD, MA</td>\n      <td>SPRINGFIELD</td>\n      <td>MA</td>\n      <td>144780</td>\n      <td>79365</td>\n      <td>30997</td>\n      <td>777</td>\n      <td>2991</td>\n      <td>61579</td>\n      <td>2325</td>\n      <td>...</td>\n      <td>971</td>\n      <td>652</td>\n      <td>154000</td>\n      <td>65</td>\n      <td>13</td>\n      <td>01107</td>\n      <td>42.121060</td>\n      <td>-72.607068</td>\n      <td>SPRINGFIELD</td>\n      <td>MA</td>\n    </tr>\n    <tr>\n      <th>4</th>\n      <td>SPRINGFIELD, MA</td>\n      <td>SPRINGFIELD</td>\n      <td>MA</td>\n      <td>144780</td>\n      <td>79365</td>\n      <td>30997</td>\n      <td>777</td>\n      <td>2991</td>\n      <td>61579</td>\n      <td>2325</td>\n      <td>...</td>\n      <td>1532</td>\n      <td>890</td>\n      <td>148200</td>\n      <td>134</td>\n      <td>62</td>\n      <td>01108</td>\n      <td>42.080692</td>\n      <td>-72.560791</td>\n      <td>SPRINGFIELD</td>\n      <td>MA</td>\n    </tr>\n  </tbody>\n</table>\n<p>5 rows × 62 columns</p>\n</div>"
     },
     "metadata": {},
     "execution_count": 17
    }
   ],
   "source": [
    "# Combined Data\n",
    "merge_df.head()"
   ]
  },
  {
   "cell_type": "code",
   "execution_count": null,
   "metadata": {},
   "outputs": [],
   "source": []
  }
 ],
 "metadata": {
  "anaconda-cloud": {},
  "kernelspec": {
   "display_name": "Python 3",
   "language": "python",
   "name": "python3"
  },
  "language_info": {
   "codemirror_mode": {
    "name": "ipython",
    "version": 3
   },
   "file_extension": ".py",
   "mimetype": "text/x-python",
   "name": "python",
   "nbconvert_exporter": "python",
   "pygments_lexer": "ipython3",
   "version": "3.6.10-final"
  },
  "varInspector": {
   "cols": {
    "lenName": 16,
    "lenType": 16,
    "lenVar": 40
   },
   "kernels_config": {
    "python": {
     "delete_cmd_postfix": "",
     "delete_cmd_prefix": "del ",
     "library": "var_list.py",
     "varRefreshCmd": "print(var_dic_list())"
    },
    "r": {
     "delete_cmd_postfix": ") ",
     "delete_cmd_prefix": "rm(",
     "library": "var_list.r",
     "varRefreshCmd": "cat(var_dic_list()) "
    }
   },
   "types_to_exclude": [
    "module",
    "function",
    "builtin_function_or_method",
    "instance",
    "_Feature"
   ],
   "window_display": false
  }
 },
 "nbformat": 4,
 "nbformat_minor": 1
}