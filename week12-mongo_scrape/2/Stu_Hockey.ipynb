{
 "cells": [
  {
   "cell_type": "code",
   "execution_count": 5,
   "metadata": {
    "collapsed": true
   },
   "outputs": [],
   "source": [
    "# Dependencies\n",
    "from bs4 import BeautifulSoup\n",
    "import requests\n",
    "import pymongo"
   ]
  },
  {
   "cell_type": "code",
   "execution_count": 6,
   "metadata": {
    "collapsed": true
   },
   "outputs": [],
   "source": [
    "# Initialize PyMongo to work with MongoDBs\n",
    "conn = 'mongodb://localhost:27017'\n",
    "client = pymongo.MongoClient(conn)\n"
   ]
  },
  {
   "cell_type": "code",
   "execution_count": 7,
   "metadata": {
    "collapsed": true
   },
   "outputs": [],
   "source": [
    "# Define database and collection\n",
    "db = client.hockey_db\n",
    "collection = db.nhl"
   ]
  },
  {
   "cell_type": "code",
   "execution_count": 8,
   "metadata": {
    "collapsed": true
   },
   "outputs": [],
   "source": [
    "# URL of page to be scraped\n",
    "url = 'https://www.nhl.com/news'"
   ]
  },
  {
   "cell_type": "code",
   "execution_count": 9,
   "metadata": {
    "collapsed": true
   },
   "outputs": [],
   "source": [
    "# Retrieve page with the requests module\n",
    "response = requests.get(url)"
   ]
  },
  {
   "cell_type": "code",
   "execution_count": 10,
   "metadata": {
    "collapsed": true
   },
   "outputs": [],
   "source": [
    "# Create BeautifulSoup object; parse with 'lxml'\n",
    "soup = BeautifulSoup(response.text, 'lxml')"
   ]
  },
  {
   "cell_type": "code",
   "execution_count": 11,
   "metadata": {
    "collapsed": true
   },
   "outputs": [
    {
     "output_type": "stream",
     "name": "stdout",
     "text": [
      "-----------------\nBarzal gets hat trick, Islanders score eight in win against Capitals\nCenter finishes with five points; Eberle has two goals for New York\n2021-04-01\n-----------------\nDeSmith, Penguins defeat Bruins for fifth straight win\nMakes 30 saves, Pittsburgh ends 10-game losing streak at Boston\n2021-04-01\n-----------------\nZibanejad scores with 28 seconds left in OT in Rangers win against Sabres\nNew York recovers after Thompson ties game for Buffalo at 19:56 of third period\n2021-04-01\n-----------------\nCanadiens defeat Senators for second straight win since pause\nAllen makes 23 saves, four players score for Montreal\n2021-04-01\n-----------------\nMcDavid best choice for Hart Trophy as NHL MVP, Kane says\nOilers center 'head and shoulders' above contenders, including Blackhawks forward\n2021-04-01\n-----------------\nCanucks have three more games postponed due to COVID-19 protocol\nScheduled to return to play April 8; Gaudette, Hamonic on list\n2021-04-01\n-----------------\nLightning rally past Blue Jackets, end three-game skid\nColton, Point score 66 seconds apart in third for Tampa Bay\n2021-04-01\n-----------------\nTalbot makes 35 saves for Wild in shootout win against Golden Knights\nKaprizov has goal, assist for Minnesota; McNabb ends 66-game goal drought for Vegas\n2021-04-02\n-----------------\nPanthers rally, defeat Red Wings in OT for fourth straight win\nWennberg scores after Vatrano ties game in third period\n2021-04-01\n-----------------\nFantasy hockey top 200 player rankings\nNHL.com lists best standard league options for rest of season; podcast analysis\n2021-04-01\n-----------------\nPredators' six-game winning streak ends in loss to Stars\nNashville 0-for-3 on power play; Pavelski has two assists for Dallas\n2021-04-01\n-----------------\nFast's late goal lifts Hurricanes past Blackhawks\nScores with 29 seconds left for Carolina; Foegele has two goals\n2021-04-02\n-----------------\nStephenson suspended three games for actions in Golden Knights game\nForward punished for elbowing Kings defenseman Bjornfot\n2021-04-01\n-----------------\nEric Staal expects to skate Sunday, debut with Canadiens unknown\nCenter also discusses role with Montreal, future on 'NHL @TheRink' podcast\n2021-04-01\n-----------------\nFantasy hockey top 25 goalie rankings\nBest options at position in standard leagues for rest of this season; podcast\n2021-04-01\n-----------------\nNHL Trade Buzz: Hall could help contender, ex-Sabres teammate Staal says\nStars road trip will determine deadline decisions; Golden Knights OK if they stand pat\n2021-04-01\n-----------------\nSuper 16: Predators enter NHL.com power rankings\nSix-game winning streak has Nashville back in Discover Central race; Blackhawks drop out\n2021-04-01\n-----------------\nBarzal's hat trick a highlight-reel extravaganza in Islanders win\nForward scores three times, each one in more amazing fashion\n2021-04-01\n-----------------\nMacKinnon fined for actions in Avalanche game vs. Coyotes\nCenter assessed $5,000 for unsportsmanlike conduct against forward Garland\n2021-04-01\n-----------------\nNHL DFS player picks, projections, strategy\nRookie Anderson-Dolan has sneaky value for Kings; more Friday fantasy targets\n2021-04-01\n-----------------\n2020-21 NHL Trade Tracker\nOfficial deals since Oct. 1, 2020\n2021-03-29\n-----------------\nCrosby, McDavid, Barkov, Grubauer named NHL Stars of Month\nRegistered nurses among health care workers also honored\n2021-04-01\n-----------------\nJohnson impresses in first season for Michigan ahead of 2021 NHL Draft\nForward switched positions, scored 27 points; Sioux Falls center Sillinger among standouts\n2021-04-02\n-----------------\nCaufield of Canadiens among finalists for Hobey Baker Award\nGoalie McKay, Senators forward prospect Pinto also in running for award given to best men's NCAA player\n2021-04-01\n-----------------\nAHL notebook: Rosen of Maple Leafs among defensemen set to impact NHL\nHeinola could soon be summoned by Jets, Soderstrom may be called up to join Coyotes\n2021-04-01\n-----------------\nNedeljkovic of Hurricanes leads NHL Rookies of Month\nGoalie finished ahead of Stars forward Robertson, Predators wing Tolvanen\n2021-04-01\n-----------------\nPenguins in market for center nearing NHL Trade Deadline: report\nPittsburgh 'looking around' with injuries to Malkin, Blueger, Burke says\n2021-03-31\n-----------------\nDemko receives five-year contract from Canucks\nGoalie could have become restricted free agent after this season\n2021-03-31\n-----------------\nCollege free agents signing with NHL teams\nKiersted agrees with Panthers, Tufto to Lightning among early contracts\n2021-04-01\n-----------------\n2021 NHL Trade Deadline fantasy preview\nHall, Palmieri among players to target in fantasy with April 12 approaching\n2021-03-31\n"
     ]
    }
   ],
   "source": [
    "# Retrieve the parent divs for all articles\n",
    "results = soup.find_all('div', class_='article-item__top')\n",
    "\n",
    "# loop over results to get article data\n",
    "for result in results:\n",
    "    # scrape the article header \n",
    "    header = result.find('h1', class_='article-item__headline').text\n",
    "    \n",
    "    # scrape the article subheader\n",
    "    subheader = result.find('h2', class_='article-item__subheader').text\n",
    "    \n",
    "    # scrape the datetime\n",
    "    datetime = result.find('span', class_='article-item__date')['data-date']\n",
    "    # get only the date from the datetime\n",
    "    date = datetime.split('T')[0]\n",
    "    # print article data\n",
    "    print('-----------------')\n",
    "    print(header)\n",
    "    print(subheader)\n",
    "    print(date)\n",
    "\n",
    "    # Dictionary to be inserted into MongoDB\n",
    "    post = {\n",
    "        'header': header,\n",
    "        'subheader': subheader,\n",
    "        'date': date,\n",
    "    }\n",
    "\n",
    "    # Insert dictionary into MongoDB as a document\n",
    "    collection.insert_one(post)"
   ]
  },
  {
   "cell_type": "code",
   "execution_count": 12,
   "metadata": {
    "collapsed": true
   },
   "outputs": [],
   "source": [
    "# Display the MongoDB records created above\n",
    "articles = db.articles.find()\n",
    "for article in articles:\n",
    "    print(article)"
   ]
  },
  {
   "cell_type": "code",
   "execution_count": null,
   "metadata": {},
   "outputs": [],
   "source": []
  }
 ],
 "metadata": {
  "kernelspec": {
   "display_name": "Python 3",
   "language": "python",
   "name": "python3"
  },
  "language_info": {
   "codemirror_mode": {
    "name": "ipython",
    "version": 3
   },
   "file_extension": ".py",
   "mimetype": "text/x-python",
   "name": "python",
   "nbconvert_exporter": "python",
   "pygments_lexer": "ipython3",
   "version": "3.6.10-final"
  },
  "varInspector": {
   "cols": {
    "lenName": 16,
    "lenType": 16,
    "lenVar": 40
   },
   "kernels_config": {
    "python": {
     "delete_cmd_postfix": "",
     "delete_cmd_prefix": "del ",
     "library": "var_list.py",
     "varRefreshCmd": "print(var_dic_list())"
    },
    "r": {
     "delete_cmd_postfix": ") ",
     "delete_cmd_prefix": "rm(",
     "library": "var_list.r",
     "varRefreshCmd": "cat(var_dic_list()) "
    }
   },
   "types_to_exclude": [
    "module",
    "function",
    "builtin_function_or_method",
    "instance",
    "_Feature"
   ],
   "window_display": false
  }
 },
 "nbformat": 4,
 "nbformat_minor": 2
}