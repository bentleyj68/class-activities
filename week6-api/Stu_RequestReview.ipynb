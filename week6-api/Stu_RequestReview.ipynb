{
 "cells": [
  {
   "cell_type": "code",
   "execution_count": 1,
   "metadata": {
    "collapsed": true
   },
   "outputs": [],
   "source": [
    "# Dependencies\n",
    "import json\n",
    "import requests "
   ]
  },
  {
   "cell_type": "code",
   "execution_count": 2,
   "metadata": {
    "collapsed": true
   },
   "outputs": [],
   "source": [
    "# Specify the URL\n",
    "url = 'http://nyt-mongo-scraper.herokuapp.com/api/headlines'\n",
    "# Make request and store response\n",
    "headlines = requests.get(url).json()"
   ]
  },
  {
   "cell_type": "code",
   "execution_count": 3,
   "metadata": {
    "collapsed": true
   },
   "outputs": [
    {
     "output_type": "execute_result",
     "data": {
      "text/plain": [
       "[{'saved': True,\n",
       "  '_id': '60169a3c82934a001517d2c7',\n",
       "  'headline': 'He Can’t Carry a Tune, but Chang-rae Lee Has a Song to Sing',\n",
       "  'summary': '“My Year Abroad,” the writer’s sixth novel, is about letting yourself plunge into the world, even when it hurts.',\n",
       "  'url': 'https://www.nytimes.com/2021/01/31/books/chang-rae-lee-my-year-abroad.html',\n",
       "  'date': '2021-01-31T11:53:32.832Z',\n",
       "  '__v': 0},\n",
       " {'saved': True,\n",
       "  '_id': '60169a3c82934a001517d2c8',\n",
       "  'headline': '‘S.N.L.’ Takes on Marjorie Taylor Greene and GameStop',\n",
       "  'summary': 'In its first episode of 2021, “Saturday Night Live” also addressed the Capitol riot, Covid-19 vaccines and the Biden administration.',\n",
       "  'url': 'https://www.nytimes.com/2021/01/31/arts/television/saturday-night-live.html',\n",
       "  'date': '2021-01-31T11:53:32.832Z',\n",
       "  '__v': 0},\n",
       " {'saved': False,\n",
       "  '_id': '60169a3c82934a001517d2c4',\n",
       "  'headline': 'Here’s How to Learn if Facial Recognition Systems Used Your Photos',\n",
       "  'summary': 'An online tool may open some eyes to how widely artificial intelligence research fed on personal images.',\n",
       "  'url': 'https://www.nytimes.com/2021/01/31/technology/facial-recognition-photo-tool.html',\n",
       "  'date': '2021-01-31T11:53:32.831Z',\n",
       "  '__v': 0},\n",
       " {'saved': False,\n",
       "  '_id': '60169a3c82934a001517d2c2',\n",
       "  'headline': 'Analysis: Ghosts of 2009 Drive Democrats’ Push for Robust Crisis ResponseWall Street Strives to Get Out the Vote in N.Y.C.’s Mayoral Race',\n",
       "  'summary': 'In their quest for Republican backing, Democrats said they missed opportunities for a stronger response to the Great Recession, and they don’t want a repeat.Business leaders want their employees to have a say in helping decide who will steer New York City’s economic recovery.',\n",
       "  'url': 'https://www.nytimes.com/2021/01/31/us/democrats-agenda-coronavirus-economy.html',\n",
       "  'date': '2021-01-31T11:53:32.831Z',\n",
       "  '__v': 0},\n",
       " {'saved': False,\n",
       "  '_id': '60169a3c82934a001517d2c3',\n",
       "  'headline': 'A Vast Web of Vengeance',\n",
       "  'summary': 'Outrageous lies destroyed Guy Babcock’s online reputation. When he hunted for their source, what he discovered was worse than he could have imagined.',\n",
       "  'url': 'https://www.nytimes.com/2021/01/30/technology/change-my-google-results.html',\n",
       "  'date': '2021-01-31T11:53:32.831Z',\n",
       "  '__v': 0},\n",
       " {'saved': False,\n",
       "  '_id': '60169a3c82934a001517d2c6',\n",
       "  'headline': '‘It’s Still Getting Worse.’ Inside Britain’s Vicious Second Wave.',\n",
       "  'summary': 'One hundred thousand people dead. A new, more contagious variant. The toll is close to unbearable.',\n",
       "  'url': 'https://www.nytimes.com/2021/01/28/opinion/uk-covid-deaths-hospitals.html',\n",
       "  'date': '2021-01-31T11:53:32.831Z',\n",
       "  '__v': 0},\n",
       " {'saved': False,\n",
       "  '_id': '60169a3c82934a001517d2c5',\n",
       "  'headline': 'The Weekender: 25 Great Writers and Thinkers on Books That MatterDid you follow the news this week? Take our quiz.',\n",
       "  'summary': 'Also in this edition: A turtle reignites hope for its species, a cathedral in Britain offers vaccines with a musical accompaniment and more.',\n",
       "  'url': 'https://www.nytimes.com/interactive/2021/01/29/briefing/the-weekender.html',\n",
       "  'date': '2021-01-31T11:53:32.831Z',\n",
       "  '__v': 0},\n",
       " {'saved': False,\n",
       "  '_id': '60169a3c82934a001517d2c1',\n",
       "  'headline': 'As Coronavirus Variants Spread, ‘No One Is Safe Until Everyone Is Safe’C.D.C. Order Requires Masks for Travel in U.S.Daily Toll of Covid-19 in U.S. Remains Enormous, but Cases Are Falling',\n",
       "  'summary': 'Rich countries are cornering the market on vaccines, leaving poorer regions as potential breeding grounds for variants, like the one found in South Africa.The order, which applies to travel hubs like airports and train stations, is part of a string of actions signed by President Biden. Catch up on the latest.Several indicators, including a 40 percent drop in average new reported cases, are encouraging. But new variants could upend progress.',\n",
       "  'url': 'https://www.nytimes.com/2021/01/31/world/africa/coronavirus-south-africa-variant.html',\n",
       "  'date': '2021-01-31T11:53:32.830Z',\n",
       "  '__v': 0}]"
      ]
     },
     "metadata": {},
     "execution_count": 3
    }
   ],
   "source": [
    "# JSON-ify response\n",
    "headlines"
   ]
  },
  {
   "cell_type": "code",
   "execution_count": 4,
   "metadata": {
    "collapsed": true,
    "scrolled": true
   },
   "outputs": [
    {
     "output_type": "stream",
     "name": "stdout",
     "text": [
      "{'saved': True, '_id': '60169a3c82934a001517d2c7', 'headline': 'He Can’t Carry a Tune, but Chang-rae Lee Has a Song to Sing', 'summary': '“My Year Abroad,” the writer’s sixth novel, is about letting yourself plunge into the world, even when it hurts.', 'url': 'https://www.nytimes.com/2021/01/31/books/chang-rae-lee-my-year-abroad.html', 'date': '2021-01-31T11:53:32.832Z', '__v': 0}\n\n{'saved': False, '_id': '60169a3c82934a001517d2c1', 'headline': 'As Coronavirus Variants Spread, ‘No One Is Safe Until Everyone Is Safe’C.D.C. Order Requires Masks for Travel in U.S.Daily Toll of Covid-19 in U.S. Remains Enormous, but Cases Are Falling', 'summary': 'Rich countries are cornering the market on vaccines, leaving poorer regions as potential breeding grounds for variants, like the one found in South Africa.The order, which applies to travel hubs like airports and train stations, is part of a string of actions signed by President Biden. Catch up on the latest.Several indicators, including a 40 percent drop in average new reported cases, are encouraging. But new variants could upend progress.', 'url': 'https://www.nytimes.com/2021/01/31/world/africa/coronavirus-south-africa-variant.html', 'date': '2021-01-31T11:53:32.830Z', '__v': 0}\n"
     ]
    }
   ],
   "source": [
    "# Print first and last articles\n",
    "print(headlines[0])\n",
    "print(\"\")\n",
    "print(headlines[- 1])"
   ]
  },
  {
   "cell_type": "code",
   "execution_count": 5,
   "metadata": {
    "collapsed": true
   },
   "outputs": [
    {
     "output_type": "stream",
     "name": "stdout",
     "text": [
      "8\n"
     ]
    }
   ],
   "source": [
    "#Print the number of responses received.\n",
    "print(len(headlines))"
   ]
  },
  {
   "cell_type": "code",
   "execution_count": null,
   "metadata": {},
   "outputs": [],
   "source": []
  }
 ],
 "metadata": {
  "kernelspec": {
   "display_name": "Python 3",
   "language": "python",
   "name": "python3"
  },
  "language_info": {
   "codemirror_mode": {
    "name": "ipython",
    "version": 3
   },
   "file_extension": ".py",
   "mimetype": "text/x-python",
   "name": "python",
   "nbconvert_exporter": "python",
   "pygments_lexer": "ipython3",
   "version": "3.6.10-final"
  },
  "varInspector": {
   "cols": {
    "lenName": 16,
    "lenType": 16,
    "lenVar": 40
   },
   "kernels_config": {
    "python": {
     "delete_cmd_postfix": "",
     "delete_cmd_prefix": "del ",
     "library": "var_list.py",
     "varRefreshCmd": "print(var_dic_list())"
    },
    "r": {
     "delete_cmd_postfix": ") ",
     "delete_cmd_prefix": "rm(",
     "library": "var_list.r",
     "varRefreshCmd": "cat(var_dic_list()) "
    }
   },
   "types_to_exclude": [
    "module",
    "function",
    "builtin_function_or_method",
    "instance",
    "_Feature"
   ],
   "window_display": false
  }
 },
 "nbformat": 4,
 "nbformat_minor": 2
}