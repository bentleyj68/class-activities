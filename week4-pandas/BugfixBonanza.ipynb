{
 "cells": [
  {
   "cell_type": "code",
   "execution_count": 11,
   "metadata": {},
   "outputs": [
    {
     "output_type": "execute_result",
     "data": {
      "text/plain": [
       "           Bug\\r\\nID  Number of\\r\\nComments         Votes\n",
       "count   10000.000000           10000.000000  10000.000000\n",
       "mean   137866.401800               8.750000      0.065500\n",
       "std    126260.228558               7.699638      0.728466\n",
       "min        43.000000               2.000000      0.000000\n",
       "25%     37327.500000               4.000000      0.000000\n",
       "50%     91070.000000               6.000000      0.000000\n",
       "75%    208743.750000              10.000000      0.000000\n",
       "max    500344.000000             163.000000     34.000000"
      ],
      "text/html": "<div>\n<style scoped>\n    .dataframe tbody tr th:only-of-type {\n        vertical-align: middle;\n    }\n\n    .dataframe tbody tr th {\n        vertical-align: top;\n    }\n\n    .dataframe thead th {\n        text-align: right;\n    }\n</style>\n<table border=\"1\" class=\"dataframe\">\n  <thead>\n    <tr style=\"text-align: right;\">\n      <th></th>\n      <th>Bug\\r\\nID</th>\n      <th>Number of\\r\\nComments</th>\n      <th>Votes</th>\n    </tr>\n  </thead>\n  <tbody>\n    <tr>\n      <th>count</th>\n      <td>10000.000000</td>\n      <td>10000.000000</td>\n      <td>10000.000000</td>\n    </tr>\n    <tr>\n      <th>mean</th>\n      <td>137866.401800</td>\n      <td>8.750000</td>\n      <td>0.065500</td>\n    </tr>\n    <tr>\n      <th>std</th>\n      <td>126260.228558</td>\n      <td>7.699638</td>\n      <td>0.728466</td>\n    </tr>\n    <tr>\n      <th>min</th>\n      <td>43.000000</td>\n      <td>2.000000</td>\n      <td>0.000000</td>\n    </tr>\n    <tr>\n      <th>25%</th>\n      <td>37327.500000</td>\n      <td>4.000000</td>\n      <td>0.000000</td>\n    </tr>\n    <tr>\n      <th>50%</th>\n      <td>91070.000000</td>\n      <td>6.000000</td>\n      <td>0.000000</td>\n    </tr>\n    <tr>\n      <th>75%</th>\n      <td>208743.750000</td>\n      <td>10.000000</td>\n      <td>0.000000</td>\n    </tr>\n    <tr>\n      <th>max</th>\n      <td>500344.000000</td>\n      <td>163.000000</td>\n      <td>34.000000</td>\n    </tr>\n  </tbody>\n</table>\n</div>"
     },
     "metadata": {},
     "execution_count": 11
    }
   ],
   "source": [
    "import pandas as pd\n",
    "# Create a reference to the CSV and import it into a Pandas DataFrame\n",
    "csv_path = \"Resources/EclipseBugs.csv\"\n",
    "eclipse_df = pd.read_csv(csv_path)\n",
    "\n",
    "eclipse_df.describe()\n"
   ]
  },
  {
   "cell_type": "code",
   "execution_count": 18,
   "metadata": {},
   "outputs": [
    {
     "output_type": "execute_result",
     "data": {
      "text/plain": [
       "8.75"
      ]
     },
     "metadata": {},
     "execution_count": 18
    }
   ],
   "source": [
    "# Finding the average number of comments per bug\n",
    "eclipse_df =  eclipse_df.rename(columns={\"Number of\\r\\nComments\":\"Number of Comments\"})\n",
    "\n",
    "average_comments = eclipse_df[\"Number of Comments\"].mean()\n",
    "average_comments"
   ]
  },
  {
   "cell_type": "code",
   "execution_count": 29,
   "metadata": {},
   "outputs": [
    {
     "output_type": "execute_result",
     "data": {
      "text/plain": [
       "                Component\n",
       "Assignee                 \n",
       "Aaron_Ferguson         10\n",
       "Adam_Schlegel           7\n",
       "ChrisAustin             3\n",
       "Claude_Knaus           38\n",
       "Curtis_Windatt          6"
      ],
      "text/html": "<div>\n<style scoped>\n    .dataframe tbody tr th:only-of-type {\n        vertical-align: middle;\n    }\n\n    .dataframe tbody tr th {\n        vertical-align: top;\n    }\n\n    .dataframe thead th {\n        text-align: right;\n    }\n</style>\n<table border=\"1\" class=\"dataframe\">\n  <thead>\n    <tr style=\"text-align: right;\">\n      <th></th>\n      <th>Component</th>\n    </tr>\n    <tr>\n      <th>Assignee</th>\n      <th></th>\n    </tr>\n  </thead>\n  <tbody>\n    <tr>\n      <th>Aaron_Ferguson</th>\n      <td>10</td>\n    </tr>\n    <tr>\n      <th>Adam_Schlegel</th>\n      <td>7</td>\n    </tr>\n    <tr>\n      <th>ChrisAustin</th>\n      <td>3</td>\n    </tr>\n    <tr>\n      <th>Claude_Knaus</th>\n      <td>38</td>\n    </tr>\n    <tr>\n      <th>Curtis_Windatt</th>\n      <td>6</td>\n    </tr>\n  </tbody>\n</table>\n</div>"
     },
     "metadata": {},
     "execution_count": 29
    }
   ],
   "source": [
    "# Grouping the DataFrame by \"Assignee\"\n",
    "assignee_group = eclipse_df.groupby(\"Assignee\")\n",
    "\n",
    "# Count how many of each component Assignees worked on and create DataFrame\n",
    "assignee_work_df = pd.DataFrame(assignee_group[\"Component\"].count())\n",
    "assignee_work_df.head()"
   ]
  },
  {
   "cell_type": "code",
   "execution_count": 30,
   "metadata": {},
   "outputs": [
    {
     "output_type": "execute_result",
     "data": {
      "text/plain": [
       "                Component Bug Count\n",
       "Assignee                           \n",
       "Aaron_Ferguson                   10\n",
       "Adam_Schlegel                     7\n",
       "ChrisAustin                       3\n",
       "Claude_Knaus                     38\n",
       "Curtis_Windatt                    6"
      ],
      "text/html": "<div>\n<style scoped>\n    .dataframe tbody tr th:only-of-type {\n        vertical-align: middle;\n    }\n\n    .dataframe tbody tr th {\n        vertical-align: top;\n    }\n\n    .dataframe thead th {\n        text-align: right;\n    }\n</style>\n<table border=\"1\" class=\"dataframe\">\n  <thead>\n    <tr style=\"text-align: right;\">\n      <th></th>\n      <th>Component Bug Count</th>\n    </tr>\n    <tr>\n      <th>Assignee</th>\n      <th></th>\n    </tr>\n  </thead>\n  <tbody>\n    <tr>\n      <th>Aaron_Ferguson</th>\n      <td>10</td>\n    </tr>\n    <tr>\n      <th>Adam_Schlegel</th>\n      <td>7</td>\n    </tr>\n    <tr>\n      <th>ChrisAustin</th>\n      <td>3</td>\n    </tr>\n    <tr>\n      <th>Claude_Knaus</th>\n      <td>38</td>\n    </tr>\n    <tr>\n      <th>Curtis_Windatt</th>\n      <td>6</td>\n    </tr>\n  </tbody>\n</table>\n</div>"
     },
     "metadata": {},
     "execution_count": 30
    }
   ],
   "source": [
    "# Rename the \"Component\" column to \"Component Bug Count\"\n",
    "assignee_work_df = assignee_work_df.rename(\n",
    "    columns={\"Component\": \"Component Bug Count\"})\n",
    "assignee_work_df.head()"
   ]
  },
  {
   "cell_type": "code",
   "execution_count": 21,
   "metadata": {},
   "outputs": [
    {
     "output_type": "execute_result",
     "data": {
      "text/plain": [
       "                               Assignee\n",
       "Assignee       Assignee                \n",
       "Aaron_Ferguson Aaron_Ferguson     100.0\n",
       "Adam_Schlegel  Adam_Schlegel      100.0\n",
       "ChrisAustin    ChrisAustin        100.0\n",
       "Claude_Knaus   Claude_Knaus       100.0\n",
       "Curtis_Windatt Curtis_Windatt     100.0"
      ],
      "text/html": "<div>\n<style scoped>\n    .dataframe tbody tr th:only-of-type {\n        vertical-align: middle;\n    }\n\n    .dataframe tbody tr th {\n        vertical-align: top;\n    }\n\n    .dataframe thead th {\n        text-align: right;\n    }\n</style>\n<table border=\"1\" class=\"dataframe\">\n  <thead>\n    <tr style=\"text-align: right;\">\n      <th></th>\n      <th></th>\n      <th>Assignee</th>\n    </tr>\n    <tr>\n      <th>Assignee</th>\n      <th>Assignee</th>\n      <th></th>\n    </tr>\n  </thead>\n  <tbody>\n    <tr>\n      <th>Aaron_Ferguson</th>\n      <th>Aaron_Ferguson</th>\n      <td>100.0</td>\n    </tr>\n    <tr>\n      <th>Adam_Schlegel</th>\n      <th>Adam_Schlegel</th>\n      <td>100.0</td>\n    </tr>\n    <tr>\n      <th>ChrisAustin</th>\n      <th>ChrisAustin</th>\n      <td>100.0</td>\n    </tr>\n    <tr>\n      <th>Claude_Knaus</th>\n      <th>Claude_Knaus</th>\n      <td>100.0</td>\n    </tr>\n    <tr>\n      <th>Curtis_Windatt</th>\n      <th>Curtis_Windatt</th>\n      <td>100.0</td>\n    </tr>\n  </tbody>\n</table>\n</div>"
     },
     "metadata": {},
     "execution_count": 21
    }
   ],
   "source": [
    "# Find the percentage of bugs overall fixed by each Assignee\n",
    "total_bugs = assignee_group[\"Assignee\"].count()\n",
    "bugs_per_user = assignee_group[\"Assignee\"].value_counts()\n",
    "\n",
    "user_bug_percent_df = pd.DataFrame((bugs_per_user/total_bugs)*100)\n",
    "user_bug_percent_df.head()"
   ]
  },
  {
   "cell_type": "code",
   "execution_count": 23,
   "metadata": {},
   "outputs": [],
   "source": [
    "# Reset the index of \"assignee_group\" so that \"Assignee\" and \"Component\" are columns\n",
    "assignee_work_df = assignee_work_df.reset_index()"
   ]
  },
  {
   "cell_type": "code",
   "execution_count": 28,
   "metadata": {},
   "outputs": [
    {
     "output_type": "execute_result",
     "data": {
      "text/plain": [
       "   index        Assignee        Component  Component Bug Count\n",
       "0      0  Aaron_Ferguson               UI                   10\n",
       "1      1   Adam_Schlegel               UI                    7\n",
       "2      2     ChrisAustin  User Assistance                    3\n",
       "3      3    Claude_Knaus               UI                   31\n",
       "4      4    Claude_Knaus             Text                    7"
      ],
      "text/html": "<div>\n<style scoped>\n    .dataframe tbody tr th:only-of-type {\n        vertical-align: middle;\n    }\n\n    .dataframe tbody tr th {\n        vertical-align: top;\n    }\n\n    .dataframe thead th {\n        text-align: right;\n    }\n</style>\n<table border=\"1\" class=\"dataframe\">\n  <thead>\n    <tr style=\"text-align: right;\">\n      <th></th>\n      <th>index</th>\n      <th>Assignee</th>\n      <th>Component</th>\n      <th>Component Bug Count</th>\n    </tr>\n  </thead>\n  <tbody>\n    <tr>\n      <th>0</th>\n      <td>0</td>\n      <td>Aaron_Ferguson</td>\n      <td>UI</td>\n      <td>10</td>\n    </tr>\n    <tr>\n      <th>1</th>\n      <td>1</td>\n      <td>Adam_Schlegel</td>\n      <td>UI</td>\n      <td>7</td>\n    </tr>\n    <tr>\n      <th>2</th>\n      <td>2</td>\n      <td>ChrisAustin</td>\n      <td>User Assistance</td>\n      <td>3</td>\n    </tr>\n    <tr>\n      <th>3</th>\n      <td>3</td>\n      <td>Claude_Knaus</td>\n      <td>UI</td>\n      <td>31</td>\n    </tr>\n    <tr>\n      <th>4</th>\n      <td>4</td>\n      <td>Claude_Knaus</td>\n      <td>Text</td>\n      <td>7</td>\n    </tr>\n  </tbody>\n</table>\n</div>"
     },
     "metadata": {},
     "execution_count": 28
    }
   ],
   "source": [
    "# Merge the \"Percent of Total Bugs Assigned\" into the DataFrame\n",
    "#merge_df = pd.merge(assignee_work_df,user_bug_percent_df, on=\"Assignee\")\n",
    "#assignee_work_df.head()\n",
    "assignee_work_df.head()"
   ]
  },
  {
   "cell_type": "code",
   "execution_count": null,
   "metadata": {},
   "outputs": [],
   "source": []
  }
 ],
 "metadata": {
  "kernelspec": {
   "display_name": "Python 3",
   "language": "python",
   "name": "python3"
  },
  "language_info": {
   "codemirror_mode": {
    "name": "ipython",
    "version": 3
   },
   "file_extension": ".py",
   "mimetype": "text/x-python",
   "name": "python",
   "nbconvert_exporter": "python",
   "pygments_lexer": "ipython3",
   "version": "3.8.5-final"
  }
 },
 "nbformat": 4,
 "nbformat_minor": 2
}