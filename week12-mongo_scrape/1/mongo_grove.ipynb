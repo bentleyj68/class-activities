{
 "cells": [
  {
   "cell_type": "code",
   "execution_count": 1,
   "metadata": {},
   "outputs": [],
   "source": [
    "# Module used to connect Python with MongoDb\n",
    "import pymongo"
   ]
  },
  {
   "cell_type": "code",
   "execution_count": 2,
   "metadata": {},
   "outputs": [],
   "source": [
    "conn = 'mongodb://localhost:27017'\n",
    "client = pymongo.MongoClient(conn)"
   ]
  },
  {
   "cell_type": "code",
   "execution_count": 4,
   "metadata": {},
   "outputs": [
    {
     "output_type": "stream",
     "name": "stdout",
     "text": [
      "['ClassDB', 'Dumpster_DB', 'admin', 'config', 'local']\n"
     ]
    }
   ],
   "source": [
    "fruits_db = client[\"fruits_db\"]\n",
    "print(client.list_database_names())"
   ]
  },
  {
   "cell_type": "code",
   "execution_count": 5,
   "metadata": {},
   "outputs": [
    {
     "output_type": "stream",
     "name": "stdout",
     "text": [
      "[]\n"
     ]
    }
   ],
   "source": [
    "fruit_col = fruits_db[\"fruits\"]\n",
    "print(fruits_db.list_collection_names())"
   ]
  },
  {
   "cell_type": "code",
   "execution_count": 6,
   "metadata": {},
   "outputs": [
    {
     "output_type": "execute_result",
     "data": {
      "text/plain": [
       "<pymongo.results.InsertManyResult at 0x26c8c0907c8>"
      ]
     },
     "metadata": {},
     "execution_count": 6
    }
   ],
   "source": [
    "fruit_list = [\n",
    "    {\"vendor_name\": \"VJ Fruit Co.\", \"type\": \"Bananna\", \"quantity\": 20, \"ripeness\": 1} ,\n",
    "    {\"vendor_name\": \"AnnaB Fruit\", \"type\": \"Apples\", \"quantity\": 30, \"ripeness\": 3} ]\n",
    "\n",
    "fruit_col.insert_many(fruit_list)"
   ]
  },
  {
   "cell_type": "code",
   "execution_count": 7,
   "metadata": {},
   "outputs": [
    {
     "output_type": "stream",
     "name": "stdout",
     "text": [
      "{'_id': ObjectId('603e35be29891c5a2c45e460'), 'vendor_name': 'VJ Fruit Co.', 'type': 'Bananna', 'quantity': 20, 'ripeness': 1}\n{'_id': ObjectId('603e35be29891c5a2c45e461'), 'vendor_name': 'AnnaB Fruit', 'type': 'Apples', 'quantity': 30, 'ripeness': 3}\n"
     ]
    }
   ],
   "source": [
    "for x in fruit_col.find():\n",
    "  print(x)"
   ]
  },
  {
   "cell_type": "code",
   "execution_count": null,
   "metadata": {},
   "outputs": [],
   "source": []
  }
 ],
 "metadata": {
  "kernelspec": {
   "display_name": "Python 3",
   "language": "python",
   "name": "python3"
  },
  "language_info": {
   "codemirror_mode": {
    "name": "ipython",
    "version": 3
   },
   "file_extension": ".py",
   "mimetype": "text/x-python",
   "name": "python",
   "nbconvert_exporter": "python",
   "pygments_lexer": "ipython3",
   "version": "3.6.10-final"
  }
 },
 "nbformat": 4,
 "nbformat_minor": 2
}