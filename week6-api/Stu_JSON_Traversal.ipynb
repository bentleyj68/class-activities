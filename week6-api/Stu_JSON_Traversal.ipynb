{
 "cells": [
  {
   "cell_type": "code",
   "execution_count": 1,
   "metadata": {
    "collapsed": true
   },
   "outputs": [],
   "source": [
    "# Dependencies\n",
    "import json\n",
    "import os\n",
    "\n",
    "# Load JSON\n",
    "filepath = os.path.join(\"Resources\", \"youtube_response.json\")\n",
    "with open(filepath) as jsonfile:\n",
    "    json_data = json.load(jsonfile)"
   ]
  },
  {
   "cell_type": "code",
   "execution_count": 2,
   "metadata": {},
   "outputs": [
    {
     "output_type": "stream",
     "name": "stdout",
     "text": [
      "{\n    \"apiVersion\": \"2.0\",\n    \"data\": {\n        \"items\": [\n            {\n                \"accessControl\": {\n                    \"comment\": \"allowed\",\n                    \"commentVote\": \"allowed\",\n                    \"embed\": \"allowed\",\n                    \"list\": \"allowed\",\n                    \"rate\": \"allowed\",\n                    \"syndicate\": \"allowed\",\n                    \"videoRespond\": \"moderated\"\n                },\n                \"aspectRatio\": \"widescreen\",\n                \"category\": \"News\",\n                \"commentCount\": 22,\n                \"content\": {\n                    \"1\": \"rtsp://v5.cache3.c.youtube.com/CiILENy.../0/0/0/video.3gp\",\n                    \"5\": \"http://www.youtube.com/v/hYB0mn5zh2c?f...\",\n                    \"6\": \"rtsp://v1.cache1.c.youtube.com/CiILENy.../0/0/0/video.3gp\"\n                },\n                \"description\": \"Google Maps API Introduction ...\",\n                \"duration\": 2840,\n                \"favoriteCount\": 201,\n                \"id\": \"hYB0mn5zh2c\",\n                \"player\": {\n                    \"default\": \"http://www.youtube.com/watch?vu003dhYB0mn5zh2c\"\n                },\n                \"rating\": 4.63,\n                \"ratingCount\": 68,\n                \"status\": {\n                    \"reason\": \"limitedSyndication\",\n                    \"value\": \"restricted\"\n                },\n                \"tags\": [\n                    \"GDD07\",\n                    \"GDD07US\",\n                    \"Maps\"\n                ],\n                \"thumbnail\": {\n                    \"default\": \"http://i.ytimg.com/vi/hYB0mn5zh2c/default.jpg\",\n                    \"hqDefault\": \"http://i.ytimg.com/vi/hYB0mn5zh2c/hqdefault.jpg\"\n                },\n                \"title\": \"Google Developers Day US - Maps API Introduction\",\n                \"updated\": \"2010-01-07T13:26:50.000Z\",\n                \"uploaded\": \"2007-06-05T22:07:03.000Z\",\n                \"uploader\": \"GoogleDeveloperDay\",\n                \"viewCount\": 220101\n            }\n        ],\n        \"itemsPerPage\": 1,\n        \"startIndex\": 1,\n        \"totalItems\": 800,\n        \"updated\": \"2010-01-07T19:58:42.949Z\"\n    }\n}\n"
     ]
    }
   ],
   "source": [
    "print(json.dumps(json_data, indent=4, sort_keys=True))"
   ]
  },
  {
   "cell_type": "code",
   "execution_count": 3,
   "metadata": {},
   "outputs": [
    {
     "output_type": "execute_result",
     "data": {
      "text/plain": [
       "{'updated': '2010-01-07T19:58:42.949Z',\n",
       " 'totalItems': 800,\n",
       " 'startIndex': 1,\n",
       " 'itemsPerPage': 1,\n",
       " 'items': [{'id': 'hYB0mn5zh2c',\n",
       "   'uploaded': '2007-06-05T22:07:03.000Z',\n",
       "   'updated': '2010-01-07T13:26:50.000Z',\n",
       "   'uploader': 'GoogleDeveloperDay',\n",
       "   'category': 'News',\n",
       "   'title': 'Google Developers Day US - Maps API Introduction',\n",
       "   'description': 'Google Maps API Introduction ...',\n",
       "   'tags': ['GDD07', 'GDD07US', 'Maps'],\n",
       "   'thumbnail': {'default': 'http://i.ytimg.com/vi/hYB0mn5zh2c/default.jpg',\n",
       "    'hqDefault': 'http://i.ytimg.com/vi/hYB0mn5zh2c/hqdefault.jpg'},\n",
       "   'player': {'default': 'http://www.youtube.com/watch?vu003dhYB0mn5zh2c'},\n",
       "   'content': {'1': 'rtsp://v5.cache3.c.youtube.com/CiILENy.../0/0/0/video.3gp',\n",
       "    '5': 'http://www.youtube.com/v/hYB0mn5zh2c?f...',\n",
       "    '6': 'rtsp://v1.cache1.c.youtube.com/CiILENy.../0/0/0/video.3gp'},\n",
       "   'duration': 2840,\n",
       "   'aspectRatio': 'widescreen',\n",
       "   'rating': 4.63,\n",
       "   'ratingCount': 68,\n",
       "   'viewCount': 220101,\n",
       "   'favoriteCount': 201,\n",
       "   'commentCount': 22,\n",
       "   'status': {'value': 'restricted', 'reason': 'limitedSyndication'},\n",
       "   'accessControl': {'syndicate': 'allowed',\n",
       "    'commentVote': 'allowed',\n",
       "    'rate': 'allowed',\n",
       "    'list': 'allowed',\n",
       "    'comment': 'allowed',\n",
       "    'embed': 'allowed',\n",
       "    'videoRespond': 'moderated'}}]}"
      ]
     },
     "metadata": {},
     "execution_count": 3
    }
   ],
   "source": [
    "json_data[\"data\"]\n"
   ]
  },
  {
   "cell_type": "code",
   "execution_count": 4,
   "metadata": {},
   "outputs": [
    {
     "output_type": "execute_result",
     "data": {
      "text/plain": [
       "[{'id': 'hYB0mn5zh2c',\n",
       "  'uploaded': '2007-06-05T22:07:03.000Z',\n",
       "  'updated': '2010-01-07T13:26:50.000Z',\n",
       "  'uploader': 'GoogleDeveloperDay',\n",
       "  'category': 'News',\n",
       "  'title': 'Google Developers Day US - Maps API Introduction',\n",
       "  'description': 'Google Maps API Introduction ...',\n",
       "  'tags': ['GDD07', 'GDD07US', 'Maps'],\n",
       "  'thumbnail': {'default': 'http://i.ytimg.com/vi/hYB0mn5zh2c/default.jpg',\n",
       "   'hqDefault': 'http://i.ytimg.com/vi/hYB0mn5zh2c/hqdefault.jpg'},\n",
       "  'player': {'default': 'http://www.youtube.com/watch?vu003dhYB0mn5zh2c'},\n",
       "  'content': {'1': 'rtsp://v5.cache3.c.youtube.com/CiILENy.../0/0/0/video.3gp',\n",
       "   '5': 'http://www.youtube.com/v/hYB0mn5zh2c?f...',\n",
       "   '6': 'rtsp://v1.cache1.c.youtube.com/CiILENy.../0/0/0/video.3gp'},\n",
       "  'duration': 2840,\n",
       "  'aspectRatio': 'widescreen',\n",
       "  'rating': 4.63,\n",
       "  'ratingCount': 68,\n",
       "  'viewCount': 220101,\n",
       "  'favoriteCount': 201,\n",
       "  'commentCount': 22,\n",
       "  'status': {'value': 'restricted', 'reason': 'limitedSyndication'},\n",
       "  'accessControl': {'syndicate': 'allowed',\n",
       "   'commentVote': 'allowed',\n",
       "   'rate': 'allowed',\n",
       "   'list': 'allowed',\n",
       "   'comment': 'allowed',\n",
       "   'embed': 'allowed',\n",
       "   'videoRespond': 'moderated'}}]"
      ]
     },
     "metadata": {},
     "execution_count": 4
    }
   ],
   "source": [
    "json_data[\"data\"][\"items\"]"
   ]
  },
  {
   "cell_type": "code",
   "execution_count": 8,
   "metadata": {},
   "outputs": [
    {
     "output_type": "execute_result",
     "data": {
      "text/plain": [
       "'Google Developers Day US - Maps API Introduction'"
      ]
     },
     "metadata": {},
     "execution_count": 8
    }
   ],
   "source": [
    "json_data[\"data\"][\"items\"][0]['title']"
   ]
  },
  {
   "cell_type": "code",
   "execution_count": 9,
   "metadata": {},
   "outputs": [
    {
     "output_type": "execute_result",
     "data": {
      "text/plain": [
       "4.63"
      ]
     },
     "metadata": {},
     "execution_count": 9
    }
   ],
   "source": [
    "json_data[\"data\"][\"items\"][0]['rating']"
   ]
  },
  {
   "cell_type": "code",
   "execution_count": 13,
   "metadata": {},
   "outputs": [
    {
     "output_type": "execute_result",
     "data": {
      "text/plain": [
       "'http://i.ytimg.com/vi/hYB0mn5zh2c/default.jpg'"
      ]
     },
     "metadata": {},
     "execution_count": 13
    }
   ],
   "source": [
    "json_data[\"data\"][\"items\"][0]['thumbnail']['default']"
   ]
  },
  {
   "cell_type": "code",
   "execution_count": 14,
   "metadata": {},
   "outputs": [
    {
     "output_type": "execute_result",
     "data": {
      "text/plain": [
       "220101"
      ]
     },
     "metadata": {},
     "execution_count": 14
    }
   ],
   "source": [
    "json_data[\"data\"][\"items\"][0]['viewCount']"
   ]
  },
  {
   "cell_type": "code",
   "execution_count": null,
   "metadata": {},
   "outputs": [],
   "source": []
  }
 ],
 "metadata": {
  "kernelspec": {
   "name": "python3",
   "display_name": "Python 3.6.10 64-bit ('PythonData': conda)",
   "metadata": {
    "interpreter": {
     "hash": "2bf60f7f62a9b17f7cccd910bdb7d19f5f505debd48b14e89e2e5eef6906d64c"
    }
   }
  },
  "language_info": {
   "codemirror_mode": {
    "name": "ipython",
    "version": 3
   },
   "file_extension": ".py",
   "mimetype": "text/x-python",
   "name": "python",
   "nbconvert_exporter": "python",
   "pygments_lexer": "ipython3",
   "version": "3.6.10-final"
  }
 },
 "nbformat": 4,
 "nbformat_minor": 2
}