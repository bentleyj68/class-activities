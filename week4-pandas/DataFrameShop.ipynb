{
 "cells": [
  {
   "cell_type": "code",
   "execution_count": 1,
   "metadata": {},
   "outputs": [],
   "source": [
    "# Import Dependencies\n",
    "import pandas as pd"
   ]
  },
  {
   "cell_type": "code",
   "execution_count": 2,
   "metadata": {},
   "outputs": [
    {
     "output_type": "execute_result",
     "data": {
      "text/plain": [
       "                               0\n",
       "0                         Ornate\n",
       "1                    UC Berkeley\n",
       "2                      UC Irvine\n",
       "3  University of Central Florida\n",
       "4             Rutgers University"
      ],
      "text/html": "<div>\n<style scoped>\n    .dataframe tbody tr th:only-of-type {\n        vertical-align: middle;\n    }\n\n    .dataframe tbody tr th {\n        vertical-align: top;\n    }\n\n    .dataframe thead th {\n        text-align: right;\n    }\n</style>\n<table border=\"1\" class=\"dataframe\">\n  <thead>\n    <tr style=\"text-align: right;\">\n      <th></th>\n      <th>0</th>\n    </tr>\n  </thead>\n  <tbody>\n    <tr>\n      <th>0</th>\n      <td>Ornate</td>\n    </tr>\n    <tr>\n      <th>1</th>\n      <td>UC Berkeley</td>\n    </tr>\n    <tr>\n      <th>2</th>\n      <td>UC Irvine</td>\n    </tr>\n    <tr>\n      <th>3</th>\n      <td>University of Central Florida</td>\n    </tr>\n    <tr>\n      <th>4</th>\n      <td>Rutgers University</td>\n    </tr>\n  </tbody>\n</table>\n</div>"
     },
     "metadata": {},
     "execution_count": 2
    }
   ],
   "source": [
    "data_series = pd.DataFrame ([\"Ornate\", \"UC Berkeley\", \"UC Irvine\",\n",
    "                         \"University of Central Florida\", \"Rutgers University\"])\n",
    "data_series"
   ]
  },
  {
   "cell_type": "code",
   "execution_count": 4,
   "metadata": {},
   "outputs": [
    {
     "output_type": "execute_result",
     "data": {
      "text/plain": [
       "       Frame  Price Sales\n",
       "0     Ornate   15.0   100\n",
       "1  Classical   12.5   200\n",
       "2     Modern   10.0   150\n",
       "3       Wood    5.0   300\n",
       "4  Cardboard    1.0   N/A"
      ],
      "text/html": "<div>\n<style scoped>\n    .dataframe tbody tr th:only-of-type {\n        vertical-align: middle;\n    }\n\n    .dataframe tbody tr th {\n        vertical-align: top;\n    }\n\n    .dataframe thead th {\n        text-align: right;\n    }\n</style>\n<table border=\"1\" class=\"dataframe\">\n  <thead>\n    <tr style=\"text-align: right;\">\n      <th></th>\n      <th>Frame</th>\n      <th>Price</th>\n      <th>Sales</th>\n    </tr>\n  </thead>\n  <tbody>\n    <tr>\n      <th>0</th>\n      <td>Ornate</td>\n      <td>15.0</td>\n      <td>100</td>\n    </tr>\n    <tr>\n      <th>1</th>\n      <td>Classical</td>\n      <td>12.5</td>\n      <td>200</td>\n    </tr>\n    <tr>\n      <th>2</th>\n      <td>Modern</td>\n      <td>10.0</td>\n      <td>150</td>\n    </tr>\n    <tr>\n      <th>3</th>\n      <td>Wood</td>\n      <td>5.0</td>\n      <td>300</td>\n    </tr>\n    <tr>\n      <th>4</th>\n      <td>Cardboard</td>\n      <td>1.0</td>\n      <td>N/A</td>\n    </tr>\n  </tbody>\n</table>\n</div>"
     },
     "metadata": {},
     "execution_count": 4
    }
   ],
   "source": [
    "# DataFrame should have 3 columns: Frame, Price, and Sales AND 5 rows of data\n",
    "frame_list = [{\"Frame\": \"Ornate\", \"Price\": 15.0, \"Sales\": 100},\n",
    "                {\"Frame\": \"Classical\", \"Price\": 12.5, \"Sales\": 200},\n",
    "                {\"Frame\": \"Modern\", \"Price\": 10.0, \"Sales\": 150},\n",
    "                {\"Frame\": \"Wood\", \"Price\": 5.0, \"Sales\": 300},\n",
    "                {\"Frame\": \"Cardboard\", \"Price\": 1.0, \"Sales\": \"N/A\"}]\n",
    "\n",
    "frames_df = pd.DataFrame(frame_list)\n",
    "frames_df"
   ]
  },
  {
   "cell_type": "code",
   "execution_count": 5,
   "metadata": {},
   "outputs": [
    {
     "output_type": "execute_result",
     "data": {
      "text/plain": [
       "     Painting    Price Popularity\n",
       "0   Mona Lias  2300000       High\n",
       "1    Rembrant    46000     Medium\n",
       "2  Blue Holes       10        Low"
      ],
      "text/html": "<div>\n<style scoped>\n    .dataframe tbody tr th:only-of-type {\n        vertical-align: middle;\n    }\n\n    .dataframe tbody tr th {\n        vertical-align: top;\n    }\n\n    .dataframe thead th {\n        text-align: right;\n    }\n</style>\n<table border=\"1\" class=\"dataframe\">\n  <thead>\n    <tr style=\"text-align: right;\">\n      <th></th>\n      <th>Painting</th>\n      <th>Price</th>\n      <th>Popularity</th>\n    </tr>\n  </thead>\n  <tbody>\n    <tr>\n      <th>0</th>\n      <td>Mona Lias</td>\n      <td>2300000</td>\n      <td>High</td>\n    </tr>\n    <tr>\n      <th>1</th>\n      <td>Rembrant</td>\n      <td>46000</td>\n      <td>Medium</td>\n    </tr>\n    <tr>\n      <th>2</th>\n      <td>Blue Holes</td>\n      <td>10</td>\n      <td>Low</td>\n    </tr>\n  </tbody>\n</table>\n</div>"
     },
     "metadata": {},
     "execution_count": 5
    }
   ],
   "source": [
    "# Use a different method of creating DataFrames to\n",
    "# Create a DataFrame for an art gallery that contains three columns - \"Painting\", \"Price\", and \"Popularity\"\n",
    "# and has 4 rows of data\n",
    "frame_dicts = {\"Painting\": [\"Mona Lias\", \"Rembrant\", \"Blue Holes\"],\n",
    "                \"Price\": [2300000, 46000, 10],\n",
    "                \"Popularity\": [\"High\", \"Medium\", \"Low\"]}\n",
    "frames_df2 = pd.DataFrame(frame_dicts)\n",
    "\n",
    "frames_df2"
   ]
  },
  {
   "cell_type": "code",
   "execution_count": null,
   "metadata": {},
   "outputs": [],
   "source": []
  }
 ],
 "metadata": {
  "kernelspec": {
   "name": "python3",
   "display_name": "Python 3.6.10 64-bit ('PythonData': conda)",
   "metadata": {
    "interpreter": {
     "hash": "2bf60f7f62a9b17f7cccd910bdb7d19f5f505debd48b14e89e2e5eef6906d64c"
    }
   }
  },
  "language_info": {
   "codemirror_mode": {
    "name": "ipython",
    "version": 3
   },
   "file_extension": ".py",
   "mimetype": "text/x-python",
   "name": "python",
   "nbconvert_exporter": "python",
   "pygments_lexer": "ipython3",
   "version": "3.6.10-final"
  }
 },
 "nbformat": 4,
 "nbformat_minor": 2
}