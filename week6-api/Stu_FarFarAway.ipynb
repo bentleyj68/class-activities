{
 "cells": [
  {
   "cell_type": "code",
   "execution_count": 1,
   "metadata": {},
   "outputs": [],
   "source": [
    "# Dependencies\n",
    "import requests\n",
    "import json"
   ]
  },
  {
   "cell_type": "code",
   "execution_count": 2,
   "metadata": {},
   "outputs": [],
   "source": [
    "# URL for GET requests to retrieve Star Wars character data\n",
    "base_url = \"https://swapi.dev/api/people/\""
   ]
  },
  {
   "cell_type": "code",
   "execution_count": 3,
   "metadata": {},
   "outputs": [
    {
     "output_type": "stream",
     "name": "stdout",
     "text": [
      "https://swapi.dev/api/people/10\n"
     ]
    }
   ],
   "source": [
    "# Create a url with a specific character id\n",
    "character_id = '10'\n",
    "url = base_url + character_id\n",
    "print(url)"
   ]
  },
  {
   "cell_type": "code",
   "execution_count": 4,
   "metadata": {},
   "outputs": [
    {
     "output_type": "stream",
     "name": "stdout",
     "text": [
      "https://swapi.dev/api/people/10/\n"
     ]
    }
   ],
   "source": [
    "# Perform a get request for this character\n",
    "response = requests.get(url)\n",
    "print(response.url)"
   ]
  },
  {
   "cell_type": "code",
   "execution_count": 5,
   "metadata": {
    "collapsed": true
   },
   "outputs": [
    {
     "output_type": "stream",
     "name": "stdout",
     "text": [
      "{\n    \"birth_year\": \"57BBY\",\n    \"created\": \"2014-12-10T16:16:29.192000Z\",\n    \"edited\": \"2014-12-20T21:17:50.325000Z\",\n    \"eye_color\": \"blue-gray\",\n    \"films\": [\n        \"http://swapi.dev/api/films/1/\",\n        \"http://swapi.dev/api/films/2/\",\n        \"http://swapi.dev/api/films/3/\",\n        \"http://swapi.dev/api/films/4/\",\n        \"http://swapi.dev/api/films/5/\",\n        \"http://swapi.dev/api/films/6/\"\n    ],\n    \"gender\": \"male\",\n    \"hair_color\": \"auburn, white\",\n    \"height\": \"182\",\n    \"homeworld\": \"http://swapi.dev/api/planets/20/\",\n    \"mass\": \"77\",\n    \"name\": \"Obi-Wan Kenobi\",\n    \"skin_color\": \"fair\",\n    \"species\": [],\n    \"starships\": [\n        \"http://swapi.dev/api/starships/48/\",\n        \"http://swapi.dev/api/starships/59/\",\n        \"http://swapi.dev/api/starships/64/\",\n        \"http://swapi.dev/api/starships/65/\",\n        \"http://swapi.dev/api/starships/74/\"\n    ],\n    \"url\": \"http://swapi.dev/api/people/10/\",\n    \"vehicles\": [\n        \"http://swapi.dev/api/vehicles/38/\"\n    ]\n}\n"
     ]
    }
   ],
   "source": [
    "# Storing the JSON response within a variable\n",
    "data = response.json()\n",
    "# Use json.dumps to print the json stored in variable\n",
    "# YOUR CODE HERE\n",
    "print(json.dumps(data, indent=4, sort_keys=True))"
   ]
  },
  {
   "cell_type": "code",
   "execution_count": 6,
   "metadata": {
    "collapsed": true
   },
   "outputs": [
    {
     "output_type": "stream",
     "name": "stdout",
     "text": [
      "Name of the character is Obi-Wan Kenobi\n"
     ]
    }
   ],
   "source": [
    "# Print the name of the character retrieved\n",
    "# YOUR CODE HERE\n",
    "char_name = data['name']\n",
    "print(f\"Name of the character is {char_name}\")"
   ]
  },
  {
   "cell_type": "code",
   "execution_count": 7,
   "metadata": {
    "collapsed": true
   },
   "outputs": [
    {
     "output_type": "stream",
     "name": "stdout",
     "text": [
      "Number of films 6\n"
     ]
    }
   ],
   "source": [
    "# Print the number of films that they were in (hint: use len())\n",
    "# YOUR CODE HERE\n",
    "films=len(data[\"films\"])\n",
    "print(f\"Number of films {films}\")"
   ]
  },
  {
   "cell_type": "code",
   "execution_count": 8,
   "metadata": {
    "collapsed": true
   },
   "outputs": [
    {
     "output_type": "execute_result",
     "data": {
      "text/plain": [
       "{'name': 'Jedi starfighter',\n",
       " 'model': 'Delta-7 Aethersprite-class interceptor',\n",
       " 'manufacturer': 'Kuat Systems Engineering',\n",
       " 'cost_in_credits': '180000',\n",
       " 'length': '8',\n",
       " 'max_atmosphering_speed': '1150',\n",
       " 'crew': '1',\n",
       " 'passengers': '0',\n",
       " 'cargo_capacity': '60',\n",
       " 'consumables': '7 days',\n",
       " 'hyperdrive_rating': '1.0',\n",
       " 'MGLT': 'unknown',\n",
       " 'starship_class': 'Starfighter',\n",
       " 'pilots': ['http://swapi.dev/api/people/10/',\n",
       "  'http://swapi.dev/api/people/58/'],\n",
       " 'films': ['http://swapi.dev/api/films/5/', 'http://swapi.dev/api/films/6/'],\n",
       " 'created': '2014-12-20T17:35:23.906000Z',\n",
       " 'edited': '2014-12-20T21:23:49.930000Z',\n",
       " 'url': 'http://swapi.dev/api/starships/48/'}"
      ]
     },
     "metadata": {},
     "execution_count": 8
    }
   ],
   "source": [
    "# Request the starships URI found in the starships property of the\n",
    "# previously retreived json, then use the response to figure out what this \n",
    "# character's first starship was\n",
    "# YOUR CODE HERE\n",
    "first_ship = data[\"starships\"][0]\n",
    "ship_response = requests.get(first_ship).json()\n",
    "ship_response"
   ]
  },
  {
   "cell_type": "code",
   "execution_count": null,
   "metadata": {},
   "outputs": [],
   "source": [
    "# Print the name of the character's first starship\n",
    "# YOUR CODE HERE\n",
    "print()"
   ]
  }
 ],
 "metadata": {
  "kernelspec": {
   "name": "python3",
   "display_name": "Python 3.6.10 64-bit ('PythonData': conda)",
   "metadata": {
    "interpreter": {
     "hash": "2bf60f7f62a9b17f7cccd910bdb7d19f5f505debd48b14e89e2e5eef6906d64c"
    }
   }
  },
  "language_info": {
   "codemirror_mode": {
    "name": "ipython",
    "version": 3
   },
   "file_extension": ".py",
   "mimetype": "text/x-python",
   "name": "python",
   "nbconvert_exporter": "python",
   "pygments_lexer": "ipython3",
   "version": "3.6.10-final"
  },
  "varInspector": {
   "cols": {
    "lenName": 16,
    "lenType": 16,
    "lenVar": 40
   },
   "kernels_config": {
    "python": {
     "delete_cmd_postfix": "",
     "delete_cmd_prefix": "del ",
     "library": "var_list.py",
     "varRefreshCmd": "print(var_dic_list())"
    },
    "r": {
     "delete_cmd_postfix": ") ",
     "delete_cmd_prefix": "rm(",
     "library": "var_list.r",
     "varRefreshCmd": "cat(var_dic_list()) "
    }
   },
   "types_to_exclude": [
    "module",
    "function",
    "builtin_function_or_method",
    "instance",
    "_Feature"
   ],
   "window_display": false
  }
 },
 "nbformat": 4,
 "nbformat_minor": 2
}