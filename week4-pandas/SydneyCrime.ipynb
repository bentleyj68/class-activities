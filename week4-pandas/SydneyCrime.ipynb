{
 "cells": [
  {
   "cell_type": "code",
   "execution_count": 1,
   "metadata": {
    "collapsed": true
   },
   "outputs": [],
   "source": [
    "# Import Dependencies\n",
    "import pandas as pd"
   ]
  },
  {
   "cell_type": "code",
   "execution_count": 2,
   "metadata": {},
   "outputs": [
    {
     "output_type": "execute_result",
     "data": {
      "text/plain": [
       "                                           Region  \\\n",
       "0  Greater Sydney - Baulkham Hills and Hawkesbury   \n",
       "1  Greater Sydney - Baulkham Hills and Hawkesbury   \n",
       "2  Greater Sydney - Baulkham Hills and Hawkesbury   \n",
       "3  Greater Sydney - Baulkham Hills and Hawkesbury   \n",
       "4  Greater Sydney - Baulkham Hills and Hawkesbury   \n",
       "\n",
       "                            Offence type Apr 2015 - Mar 2016  \\\n",
       "0                               Murder *                   0   \n",
       "1                       Attempted murder                   0   \n",
       "2  Non-domestic violence related assault                 331   \n",
       "3               Abduction and kidnapping                   1   \n",
       "4               Robbery without a weapon                  14   \n",
       "\n",
       "  Apr 2016 - Mar 2017 Apr 2017 - Mar 2018 Apr 2018 - Mar 2019  \\\n",
       "0                   1                   0                   1   \n",
       "1                   0                   0                   0   \n",
       "2                 336                 364                 311   \n",
       "3                   1                   3                   3   \n",
       "4                  13                  10                  14   \n",
       "\n",
       "  Apr 2019 - Mar 2020  \n",
       "0                   0  \n",
       "1                   0  \n",
       "2                 353  \n",
       "3                   0  \n",
       "4                  15  "
      ],
      "text/html": "<div>\n<style scoped>\n    .dataframe tbody tr th:only-of-type {\n        vertical-align: middle;\n    }\n\n    .dataframe tbody tr th {\n        vertical-align: top;\n    }\n\n    .dataframe thead th {\n        text-align: right;\n    }\n</style>\n<table border=\"1\" class=\"dataframe\">\n  <thead>\n    <tr style=\"text-align: right;\">\n      <th></th>\n      <th>Region</th>\n      <th>Offence type</th>\n      <th>Apr 2015 - Mar 2016</th>\n      <th>Apr 2016 - Mar 2017</th>\n      <th>Apr 2017 - Mar 2018</th>\n      <th>Apr 2018 - Mar 2019</th>\n      <th>Apr 2019 - Mar 2020</th>\n    </tr>\n  </thead>\n  <tbody>\n    <tr>\n      <th>0</th>\n      <td>Greater Sydney - Baulkham Hills and Hawkesbury</td>\n      <td>Murder *</td>\n      <td>0</td>\n      <td>1</td>\n      <td>0</td>\n      <td>1</td>\n      <td>0</td>\n    </tr>\n    <tr>\n      <th>1</th>\n      <td>Greater Sydney - Baulkham Hills and Hawkesbury</td>\n      <td>Attempted murder</td>\n      <td>0</td>\n      <td>0</td>\n      <td>0</td>\n      <td>0</td>\n      <td>0</td>\n    </tr>\n    <tr>\n      <th>2</th>\n      <td>Greater Sydney - Baulkham Hills and Hawkesbury</td>\n      <td>Non-domestic violence related assault</td>\n      <td>331</td>\n      <td>336</td>\n      <td>364</td>\n      <td>311</td>\n      <td>353</td>\n    </tr>\n    <tr>\n      <th>3</th>\n      <td>Greater Sydney - Baulkham Hills and Hawkesbury</td>\n      <td>Abduction and kidnapping</td>\n      <td>1</td>\n      <td>1</td>\n      <td>3</td>\n      <td>3</td>\n      <td>0</td>\n    </tr>\n    <tr>\n      <th>4</th>\n      <td>Greater Sydney - Baulkham Hills and Hawkesbury</td>\n      <td>Robbery without a weapon</td>\n      <td>14</td>\n      <td>13</td>\n      <td>10</td>\n      <td>14</td>\n      <td>15</td>\n    </tr>\n  </tbody>\n</table>\n</div>"
     },
     "metadata": {},
     "execution_count": 2
    }
   ],
   "source": [
    "# Reference the file where the CSV is located\n",
    "crime_file = \"Resources/Sydney_Crime.csv\"\n",
    "# Import the data into a Pandas DataFrame\n",
    "crime_df = pd.read_csv(crime_file)\n",
    "crime_df.head()"
   ]
  },
  {
   "cell_type": "code",
   "execution_count": 3,
   "metadata": {},
   "outputs": [
    {
     "output_type": "execute_result",
     "data": {
      "text/plain": [
       "Region                 406\n",
       "Offence type           406\n",
       "Apr 2015 - Mar 2016    405\n",
       "Apr 2016 - Mar 2017    405\n",
       "Apr 2017 - Mar 2018    406\n",
       "Apr 2018 - Mar 2019    405\n",
       "Apr 2019 - Mar 2020    405\n",
       "dtype: int64"
      ]
     },
     "metadata": {},
     "execution_count": 3
    }
   ],
   "source": [
    "# look for missing values\n",
    "crime_df.count()"
   ]
  },
  {
   "cell_type": "code",
   "execution_count": 4,
   "metadata": {
    "collapsed": true
   },
   "outputs": [],
   "source": [
    "# drop null rows\n",
    "df = crime_df.dropna(how='any')\n"
   ]
  },
  {
   "cell_type": "code",
   "execution_count": 5,
   "metadata": {},
   "outputs": [
    {
     "output_type": "execute_result",
     "data": {
      "text/plain": [
       "Region                 402\n",
       "Offence type           402\n",
       "Apr 2015 - Mar 2016    402\n",
       "Apr 2016 - Mar 2017    402\n",
       "Apr 2017 - Mar 2018    402\n",
       "Apr 2018 - Mar 2019    402\n",
       "Apr 2019 - Mar 2020    402\n",
       "dtype: int64"
      ]
     },
     "metadata": {},
     "execution_count": 5
    }
   ],
   "source": [
    "# verify counts\n",
    "df.count()"
   ]
  },
  {
   "cell_type": "code",
   "execution_count": 6,
   "metadata": {
    "scrolled": true
   },
   "outputs": [
    {
     "output_type": "execute_result",
     "data": {
      "text/plain": [
       "Trespass                                 29\n",
       "Attempted murder                         29\n",
       "Dealing, trafficking in cocaine          29\n",
       "Dealing, trafficking in narcotics        29\n",
       "Robbery with a firearm                   29\n",
       "Non-domestic violence related assault    29\n",
       "Dealing, trafficking in ecstasy          29\n",
       "Dealing, trafficking in cannabis         29\n",
       "Arson                                    29\n",
       "Dealing, trafficking in other drugs      29\n",
       "Dealing, trafficking in amphetamines     28\n",
       "Murder *                                 28\n",
       "Abduction and kidnapping                 28\n",
       "Robbery without a weapon                 28\n",
       "Name: Offence type, dtype: int64"
      ]
     },
     "metadata": {},
     "execution_count": 6
    }
   ],
   "source": [
    "# Check to see if there are any values with mispelled or similar values in \"Offence Type\"\n",
    "df[\"Offence type\"].value_counts()"
   ]
  },
  {
   "cell_type": "code",
   "execution_count": 7,
   "metadata": {},
   "outputs": [],
   "source": [
    "# Combine similar offences\n",
    "df[\"Offence type\"] = df[\"Offence type\"].replace(\n",
    "    {\"Dealing, trafficking in ecstasy\": \"Drugs\",\n",
    "    \"Dealing, trafficking in cocaine\": \"Drugs\",\n",
    "    \"Dealing, trafficking in narcotics\": \"Drugs\",\n",
    "    \"Dealing, trafficking in cannabis\": \"Drugs\",\n",
    "    \"Dealing, trafficking in other drugs\": \"Drugs\",\n",
    "    \"Dealing, trafficking in amphetamines\": \"Drugs\"})"
   ]
  },
  {
   "cell_type": "code",
   "execution_count": 8,
   "metadata": {},
   "outputs": [
    {
     "output_type": "execute_result",
     "data": {
      "text/plain": [
       "Drugs                                    173\n",
       "Trespass                                  29\n",
       "Attempted murder                          29\n",
       "Robbery with a firearm                    29\n",
       "Non-domestic violence related assault     29\n",
       "Arson                                     29\n",
       "Murder *                                  28\n",
       "Abduction and kidnapping                  28\n",
       "Robbery without a weapon                  28\n",
       "Name: Offence type, dtype: int64"
      ]
     },
     "metadata": {},
     "execution_count": 8
    }
   ],
   "source": [
    "# Check to see if you comnbined similar offences correctly in \"Offence Type\".\n",
    "df[\"Offence type\"].value_counts()"
   ]
  },
  {
   "cell_type": "code",
   "execution_count": 9,
   "metadata": {},
   "outputs": [
    {
     "output_type": "stream",
     "name": "stdout",
     "text": [
      "                            Region                           Offence type  \\\n28  Greater Sydney - Central Coast                               Murder *   \n29  Greater Sydney - Central Coast                       Attempted murder   \n30  Greater Sydney - Central Coast  Non-domestic violence related assault   \n31  Greater Sydney - Central Coast               Abduction and kidnapping   \n32  Greater Sydney - Central Coast               Robbery without a weapon   \n33  Greater Sydney - Central Coast                 Robbery with a firearm   \n34  Greater Sydney - Central Coast                                  Arson   \n35  Greater Sydney - Central Coast                                  Drugs   \n36  Greater Sydney - Central Coast                                  Drugs   \n37  Greater Sydney - Central Coast                                  Drugs   \n38  Greater Sydney - Central Coast                                  Drugs   \n39  Greater Sydney - Central Coast                                  Drugs   \n40  Greater Sydney - Central Coast                                  Drugs   \n41  Greater Sydney - Central Coast                               Trespass   \n\n   Apr 2015 - Mar 2016 Apr 2016 - Mar 2017 Apr 2017 - Mar 2018  \\\n28                   4                   2                   4   \n29                   7                   0                   2   \n30               1,413               1,459               1,471   \n31                  11                  11                  14   \n32                  44                  36                  58   \n33                  11                   6                   5   \n34                 246                 317                 262   \n35                   4                  13                   5   \n36                  75                  65                   5   \n37                  20                  30                  21   \n38                  72                 107                 159   \n39                  10                  30                  62   \n40                   9                   8                   6   \n41                 333                 327                 361   \n\n   Apr 2018 - Mar 2019 Apr 2019 - Mar 2020  \n28                   1                   4  \n29                   2                   2  \n30               1,445               1,463  \n31                   9                  12  \n32                  44                  45  \n33                   6                  12  \n34                 210                 209  \n35                  14                  99  \n36                 233                   5  \n37                  98                 232  \n38                 146                 207  \n39                  28                  33  \n40                  11                  40  \n41                 362                 398  \n"
     ]
    }
   ],
   "source": [
    "# Create a new DataFrame that looks into a specific region\n",
    "centralcoast = df.loc[df[\"Region\"] == \"Greater Sydney - Central Coast\", : ]\n",
    "\n",
    "print(centralcoast)"
   ]
  },
  {
   "cell_type": "code",
   "execution_count": null,
   "metadata": {},
   "outputs": [],
   "source": []
  }
 ],
 "metadata": {
  "kernelspec": {
   "name": "python3",
   "display_name": "Python 3.6.10 64-bit ('PythonData': conda)",
   "metadata": {
    "interpreter": {
     "hash": "2bf60f7f62a9b17f7cccd910bdb7d19f5f505debd48b14e89e2e5eef6906d64c"
    }
   }
  },
  "language_info": {
   "codemirror_mode": {
    "name": "ipython",
    "version": 3
   },
   "file_extension": ".py",
   "mimetype": "text/x-python",
   "name": "python",
   "nbconvert_exporter": "python",
   "pygments_lexer": "ipython3",
   "version": "3.6.10-final"
  }
 },
 "nbformat": 4,
 "nbformat_minor": 2
}