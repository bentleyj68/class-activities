{
 "cells": [
  {
   "cell_type": "code",
   "execution_count": 20,
   "metadata": {
    "collapsed": true
   },
   "outputs": [],
   "source": [
    "# Import Dependencies\n",
    "import pandas as pd"
   ]
  },
  {
   "cell_type": "code",
   "execution_count": 21,
   "metadata": {
    "collapsed": true
   },
   "outputs": [],
   "source": [
    "bitcoin_csv = \"Resources/bitcoin_cash_price.csv\"\n",
    "dash_csv = \"Resources/dash_price.csv\""
   ]
  },
  {
   "cell_type": "code",
   "execution_count": 22,
   "metadata": {
    "collapsed": true
   },
   "outputs": [],
   "source": [
    "bitcoin_df = pd.read_csv(bitcoin_csv)\n",
    "dash_df = pd.read_csv(dash_csv)"
   ]
  },
  {
   "cell_type": "code",
   "execution_count": 23,
   "metadata": {
    "collapsed": true
   },
   "outputs": [
    {
     "output_type": "execute_result",
     "data": {
      "text/plain": [
       "        Date    Open    High     Low   Close       Volume     Market Cap\n",
       "0  17-Sep-17  438.90  438.90  384.06  419.86  221828000.0  7,279,520,000\n",
       "1  16-Sep-17  424.49  450.98  388.20  440.22  313583000.0  7,039,590,000\n",
       "2  15-Sep-17  369.49  448.39  301.69  424.02  707231000.0  6,126,800,000\n",
       "3  14-Sep-17  504.22  510.47  367.04  367.04  257431000.0  8,359,650,000\n",
       "4  13-Sep-17  509.47  519.20  471.22  503.61  340344000.0  8,445,540,000"
      ],
      "text/html": "<div>\n<style scoped>\n    .dataframe tbody tr th:only-of-type {\n        vertical-align: middle;\n    }\n\n    .dataframe tbody tr th {\n        vertical-align: top;\n    }\n\n    .dataframe thead th {\n        text-align: right;\n    }\n</style>\n<table border=\"1\" class=\"dataframe\">\n  <thead>\n    <tr style=\"text-align: right;\">\n      <th></th>\n      <th>Date</th>\n      <th>Open</th>\n      <th>High</th>\n      <th>Low</th>\n      <th>Close</th>\n      <th>Volume</th>\n      <th>Market Cap</th>\n    </tr>\n  </thead>\n  <tbody>\n    <tr>\n      <th>0</th>\n      <td>17-Sep-17</td>\n      <td>438.90</td>\n      <td>438.90</td>\n      <td>384.06</td>\n      <td>419.86</td>\n      <td>221828000.0</td>\n      <td>7,279,520,000</td>\n    </tr>\n    <tr>\n      <th>1</th>\n      <td>16-Sep-17</td>\n      <td>424.49</td>\n      <td>450.98</td>\n      <td>388.20</td>\n      <td>440.22</td>\n      <td>313583000.0</td>\n      <td>7,039,590,000</td>\n    </tr>\n    <tr>\n      <th>2</th>\n      <td>15-Sep-17</td>\n      <td>369.49</td>\n      <td>448.39</td>\n      <td>301.69</td>\n      <td>424.02</td>\n      <td>707231000.0</td>\n      <td>6,126,800,000</td>\n    </tr>\n    <tr>\n      <th>3</th>\n      <td>14-Sep-17</td>\n      <td>504.22</td>\n      <td>510.47</td>\n      <td>367.04</td>\n      <td>367.04</td>\n      <td>257431000.0</td>\n      <td>8,359,650,000</td>\n    </tr>\n    <tr>\n      <th>4</th>\n      <td>13-Sep-17</td>\n      <td>509.47</td>\n      <td>519.20</td>\n      <td>471.22</td>\n      <td>503.61</td>\n      <td>340344000.0</td>\n      <td>8,445,540,000</td>\n    </tr>\n  </tbody>\n</table>\n</div>"
     },
     "metadata": {},
     "execution_count": 23
    }
   ],
   "source": [
    "bitcoin_df.head()"
   ]
  },
  {
   "cell_type": "code",
   "execution_count": 24,
   "metadata": {
    "collapsed": true
   },
   "outputs": [
    {
     "output_type": "execute_result",
     "data": {
      "text/plain": [
       "        Date    Open    High     Low   Close      Volume     Market Cap\n",
       "0  17-Sep-17  298.59  315.58  278.17  313.84  38081600.0  2,257,850,000\n",
       "1  16-Sep-17  284.50  301.23  276.57  298.86  43702600.0  2,150,800,000\n",
       "2  15-Sep-17  236.05  300.11  220.51  284.36  72695500.0  1,784,040,000\n",
       "3  14-Sep-17  301.11  303.74  236.24  236.24  35013800.0  2,275,100,000\n",
       "4  13-Sep-17  324.72  325.16  287.25  301.29  28322500.0  2,452,930,000"
      ],
      "text/html": "<div>\n<style scoped>\n    .dataframe tbody tr th:only-of-type {\n        vertical-align: middle;\n    }\n\n    .dataframe tbody tr th {\n        vertical-align: top;\n    }\n\n    .dataframe thead th {\n        text-align: right;\n    }\n</style>\n<table border=\"1\" class=\"dataframe\">\n  <thead>\n    <tr style=\"text-align: right;\">\n      <th></th>\n      <th>Date</th>\n      <th>Open</th>\n      <th>High</th>\n      <th>Low</th>\n      <th>Close</th>\n      <th>Volume</th>\n      <th>Market Cap</th>\n    </tr>\n  </thead>\n  <tbody>\n    <tr>\n      <th>0</th>\n      <td>17-Sep-17</td>\n      <td>298.59</td>\n      <td>315.58</td>\n      <td>278.17</td>\n      <td>313.84</td>\n      <td>38081600.0</td>\n      <td>2,257,850,000</td>\n    </tr>\n    <tr>\n      <th>1</th>\n      <td>16-Sep-17</td>\n      <td>284.50</td>\n      <td>301.23</td>\n      <td>276.57</td>\n      <td>298.86</td>\n      <td>43702600.0</td>\n      <td>2,150,800,000</td>\n    </tr>\n    <tr>\n      <th>2</th>\n      <td>15-Sep-17</td>\n      <td>236.05</td>\n      <td>300.11</td>\n      <td>220.51</td>\n      <td>284.36</td>\n      <td>72695500.0</td>\n      <td>1,784,040,000</td>\n    </tr>\n    <tr>\n      <th>3</th>\n      <td>14-Sep-17</td>\n      <td>301.11</td>\n      <td>303.74</td>\n      <td>236.24</td>\n      <td>236.24</td>\n      <td>35013800.0</td>\n      <td>2,275,100,000</td>\n    </tr>\n    <tr>\n      <th>4</th>\n      <td>13-Sep-17</td>\n      <td>324.72</td>\n      <td>325.16</td>\n      <td>287.25</td>\n      <td>301.29</td>\n      <td>28322500.0</td>\n      <td>2,452,930,000</td>\n    </tr>\n  </tbody>\n</table>\n</div>"
     },
     "metadata": {},
     "execution_count": 24
    }
   ],
   "source": [
    "dash_df.head()"
   ]
  },
  {
   "cell_type": "code",
   "execution_count": 25,
   "metadata": {
    "collapsed": true
   },
   "outputs": [
    {
     "output_type": "execute_result",
     "data": {
      "text/plain": [
       "        Date  Open_x  High_x   Low_x  Close_x     Volume_x   Market Cap_x  \\\n",
       "0  17-Sep-17  438.90  438.90  384.06   419.86  221828000.0  7,279,520,000   \n",
       "1  16-Sep-17  424.49  450.98  388.20   440.22  313583000.0  7,039,590,000   \n",
       "2  15-Sep-17  369.49  448.39  301.69   424.02  707231000.0  6,126,800,000   \n",
       "3  14-Sep-17  504.22  510.47  367.04   367.04  257431000.0  8,359,650,000   \n",
       "4  13-Sep-17  509.47  519.20  471.22   503.61  340344000.0  8,445,540,000   \n",
       "\n",
       "   Open_y  High_y   Low_y  Close_y    Volume_y   Market Cap_y  \n",
       "0  298.59  315.58  278.17   313.84  38081600.0  2,257,850,000  \n",
       "1  284.50  301.23  276.57   298.86  43702600.0  2,150,800,000  \n",
       "2  236.05  300.11  220.51   284.36  72695500.0  1,784,040,000  \n",
       "3  301.11  303.74  236.24   236.24  35013800.0  2,275,100,000  \n",
       "4  324.72  325.16  287.25   301.29  28322500.0  2,452,930,000  "
      ],
      "text/html": "<div>\n<style scoped>\n    .dataframe tbody tr th:only-of-type {\n        vertical-align: middle;\n    }\n\n    .dataframe tbody tr th {\n        vertical-align: top;\n    }\n\n    .dataframe thead th {\n        text-align: right;\n    }\n</style>\n<table border=\"1\" class=\"dataframe\">\n  <thead>\n    <tr style=\"text-align: right;\">\n      <th></th>\n      <th>Date</th>\n      <th>Open_x</th>\n      <th>High_x</th>\n      <th>Low_x</th>\n      <th>Close_x</th>\n      <th>Volume_x</th>\n      <th>Market Cap_x</th>\n      <th>Open_y</th>\n      <th>High_y</th>\n      <th>Low_y</th>\n      <th>Close_y</th>\n      <th>Volume_y</th>\n      <th>Market Cap_y</th>\n    </tr>\n  </thead>\n  <tbody>\n    <tr>\n      <th>0</th>\n      <td>17-Sep-17</td>\n      <td>438.90</td>\n      <td>438.90</td>\n      <td>384.06</td>\n      <td>419.86</td>\n      <td>221828000.0</td>\n      <td>7,279,520,000</td>\n      <td>298.59</td>\n      <td>315.58</td>\n      <td>278.17</td>\n      <td>313.84</td>\n      <td>38081600.0</td>\n      <td>2,257,850,000</td>\n    </tr>\n    <tr>\n      <th>1</th>\n      <td>16-Sep-17</td>\n      <td>424.49</td>\n      <td>450.98</td>\n      <td>388.20</td>\n      <td>440.22</td>\n      <td>313583000.0</td>\n      <td>7,039,590,000</td>\n      <td>284.50</td>\n      <td>301.23</td>\n      <td>276.57</td>\n      <td>298.86</td>\n      <td>43702600.0</td>\n      <td>2,150,800,000</td>\n    </tr>\n    <tr>\n      <th>2</th>\n      <td>15-Sep-17</td>\n      <td>369.49</td>\n      <td>448.39</td>\n      <td>301.69</td>\n      <td>424.02</td>\n      <td>707231000.0</td>\n      <td>6,126,800,000</td>\n      <td>236.05</td>\n      <td>300.11</td>\n      <td>220.51</td>\n      <td>284.36</td>\n      <td>72695500.0</td>\n      <td>1,784,040,000</td>\n    </tr>\n    <tr>\n      <th>3</th>\n      <td>14-Sep-17</td>\n      <td>504.22</td>\n      <td>510.47</td>\n      <td>367.04</td>\n      <td>367.04</td>\n      <td>257431000.0</td>\n      <td>8,359,650,000</td>\n      <td>301.11</td>\n      <td>303.74</td>\n      <td>236.24</td>\n      <td>236.24</td>\n      <td>35013800.0</td>\n      <td>2,275,100,000</td>\n    </tr>\n    <tr>\n      <th>4</th>\n      <td>13-Sep-17</td>\n      <td>509.47</td>\n      <td>519.20</td>\n      <td>471.22</td>\n      <td>503.61</td>\n      <td>340344000.0</td>\n      <td>8,445,540,000</td>\n      <td>324.72</td>\n      <td>325.16</td>\n      <td>287.25</td>\n      <td>301.29</td>\n      <td>28322500.0</td>\n      <td>2,452,930,000</td>\n    </tr>\n  </tbody>\n</table>\n</div>"
     },
     "metadata": {},
     "execution_count": 25
    }
   ],
   "source": [
    "# Merge the two DataFrames together based on the Dates they share\n",
    "merge_df = pd.merge(bitcoin_df, dash_df, on='Date')\n",
    "merge_df.head()"
   ]
  },
  {
   "cell_type": "code",
   "execution_count": 26,
   "metadata": {
    "collapsed": true,
    "scrolled": true
   },
   "outputs": [
    {
     "output_type": "execute_result",
     "data": {
      "text/plain": [
       "        Date  Bitcoin Open  Bitcoin High  Bitcoin Low  Bitcoin Close  \\\n",
       "0  17-Sep-17        438.90        438.90       384.06         419.86   \n",
       "1  16-Sep-17        424.49        450.98       388.20         440.22   \n",
       "2  15-Sep-17        369.49        448.39       301.69         424.02   \n",
       "3  14-Sep-17        504.22        510.47       367.04         367.04   \n",
       "4  13-Sep-17        509.47        519.20       471.22         503.61   \n",
       "\n",
       "   Bitcoin Volume Bitcoin Market Cap  Dash Open  Dash High  Dash Low  \\\n",
       "0     221828000.0      7,279,520,000     298.59     315.58    278.17   \n",
       "1     313583000.0      7,039,590,000     284.50     301.23    276.57   \n",
       "2     707231000.0      6,126,800,000     236.05     300.11    220.51   \n",
       "3     257431000.0      8,359,650,000     301.11     303.74    236.24   \n",
       "4     340344000.0      8,445,540,000     324.72     325.16    287.25   \n",
       "\n",
       "   Dash Close  Dash Volume Dash Market Cap  \n",
       "0      313.84   38081600.0   2,257,850,000  \n",
       "1      298.86   43702600.0   2,150,800,000  \n",
       "2      284.36   72695500.0   1,784,040,000  \n",
       "3      236.24   35013800.0   2,275,100,000  \n",
       "4      301.29   28322500.0   2,452,930,000  "
      ],
      "text/html": "<div>\n<style scoped>\n    .dataframe tbody tr th:only-of-type {\n        vertical-align: middle;\n    }\n\n    .dataframe tbody tr th {\n        vertical-align: top;\n    }\n\n    .dataframe thead th {\n        text-align: right;\n    }\n</style>\n<table border=\"1\" class=\"dataframe\">\n  <thead>\n    <tr style=\"text-align: right;\">\n      <th></th>\n      <th>Date</th>\n      <th>Bitcoin Open</th>\n      <th>Bitcoin High</th>\n      <th>Bitcoin Low</th>\n      <th>Bitcoin Close</th>\n      <th>Bitcoin Volume</th>\n      <th>Bitcoin Market Cap</th>\n      <th>Dash Open</th>\n      <th>Dash High</th>\n      <th>Dash Low</th>\n      <th>Dash Close</th>\n      <th>Dash Volume</th>\n      <th>Dash Market Cap</th>\n    </tr>\n  </thead>\n  <tbody>\n    <tr>\n      <th>0</th>\n      <td>17-Sep-17</td>\n      <td>438.90</td>\n      <td>438.90</td>\n      <td>384.06</td>\n      <td>419.86</td>\n      <td>221828000.0</td>\n      <td>7,279,520,000</td>\n      <td>298.59</td>\n      <td>315.58</td>\n      <td>278.17</td>\n      <td>313.84</td>\n      <td>38081600.0</td>\n      <td>2,257,850,000</td>\n    </tr>\n    <tr>\n      <th>1</th>\n      <td>16-Sep-17</td>\n      <td>424.49</td>\n      <td>450.98</td>\n      <td>388.20</td>\n      <td>440.22</td>\n      <td>313583000.0</td>\n      <td>7,039,590,000</td>\n      <td>284.50</td>\n      <td>301.23</td>\n      <td>276.57</td>\n      <td>298.86</td>\n      <td>43702600.0</td>\n      <td>2,150,800,000</td>\n    </tr>\n    <tr>\n      <th>2</th>\n      <td>15-Sep-17</td>\n      <td>369.49</td>\n      <td>448.39</td>\n      <td>301.69</td>\n      <td>424.02</td>\n      <td>707231000.0</td>\n      <td>6,126,800,000</td>\n      <td>236.05</td>\n      <td>300.11</td>\n      <td>220.51</td>\n      <td>284.36</td>\n      <td>72695500.0</td>\n      <td>1,784,040,000</td>\n    </tr>\n    <tr>\n      <th>3</th>\n      <td>14-Sep-17</td>\n      <td>504.22</td>\n      <td>510.47</td>\n      <td>367.04</td>\n      <td>367.04</td>\n      <td>257431000.0</td>\n      <td>8,359,650,000</td>\n      <td>301.11</td>\n      <td>303.74</td>\n      <td>236.24</td>\n      <td>236.24</td>\n      <td>35013800.0</td>\n      <td>2,275,100,000</td>\n    </tr>\n    <tr>\n      <th>4</th>\n      <td>13-Sep-17</td>\n      <td>509.47</td>\n      <td>519.20</td>\n      <td>471.22</td>\n      <td>503.61</td>\n      <td>340344000.0</td>\n      <td>8,445,540,000</td>\n      <td>324.72</td>\n      <td>325.16</td>\n      <td>287.25</td>\n      <td>301.29</td>\n      <td>28322500.0</td>\n      <td>2,452,930,000</td>\n    </tr>\n  </tbody>\n</table>\n</div>"
     },
     "metadata": {},
     "execution_count": 26
    }
   ],
   "source": [
    "# Rename columns so that they are differentiated\n",
    "rename_df = merge_df.rename(columns={\"Open_x\":\"Bitcoin Open\", \"High_x\":\"Bitcoin High\",\"Low_x\":\"Bitcoin Low\",\"Close_x\":\"Bitcoin Close\",\"Volume_x\":\"Bitcoin Volume\", \"Market Cap_x\":\"Bitcoin Market Cap\", \"Open_y\":\"Dash Open\", \"High_y\":\"Dash High\",\"Low_y\":\"Dash Low\",\"Close_y\":\"Dash Close\",\"Volume_y\":\"Dash Volume\", \"Market Cap_y\":\"Dash Market Cap\"})\n",
    "\n",
    "rename_df.head()"
   ]
  },
  {
   "cell_type": "code",
   "execution_count": 27,
   "metadata": {
    "collapsed": true
   },
   "outputs": [
    {
     "output_type": "execute_result",
     "data": {
      "text/plain": [
       "        Date  Open_bitcoin  High_bitcoin  Low_bitcoin  Close_bitcoin  \\\n",
       "0  17-Sep-17        438.90        438.90       384.06         419.86   \n",
       "1  16-Sep-17        424.49        450.98       388.20         440.22   \n",
       "2  15-Sep-17        369.49        448.39       301.69         424.02   \n",
       "3  14-Sep-17        504.22        510.47       367.04         367.04   \n",
       "4  13-Sep-17        509.47        519.20       471.22         503.61   \n",
       "\n",
       "   Volume_bitcoin Market Cap_bitcoin  Open_dash  High_dash  Low_dash  \\\n",
       "0     221828000.0      7,279,520,000     298.59     315.58    278.17   \n",
       "1     313583000.0      7,039,590,000     284.50     301.23    276.57   \n",
       "2     707231000.0      6,126,800,000     236.05     300.11    220.51   \n",
       "3     257431000.0      8,359,650,000     301.11     303.74    236.24   \n",
       "4     340344000.0      8,445,540,000     324.72     325.16    287.25   \n",
       "\n",
       "   Close_dash  Volume_dash Market Cap_dash  \n",
       "0      313.84   38081600.0   2,257,850,000  \n",
       "1      298.86   43702600.0   2,150,800,000  \n",
       "2      284.36   72695500.0   1,784,040,000  \n",
       "3      236.24   35013800.0   2,275,100,000  \n",
       "4      301.29   28322500.0   2,452,930,000  "
      ],
      "text/html": "<div>\n<style scoped>\n    .dataframe tbody tr th:only-of-type {\n        vertical-align: middle;\n    }\n\n    .dataframe tbody tr th {\n        vertical-align: top;\n    }\n\n    .dataframe thead th {\n        text-align: right;\n    }\n</style>\n<table border=\"1\" class=\"dataframe\">\n  <thead>\n    <tr style=\"text-align: right;\">\n      <th></th>\n      <th>Date</th>\n      <th>Open_bitcoin</th>\n      <th>High_bitcoin</th>\n      <th>Low_bitcoin</th>\n      <th>Close_bitcoin</th>\n      <th>Volume_bitcoin</th>\n      <th>Market Cap_bitcoin</th>\n      <th>Open_dash</th>\n      <th>High_dash</th>\n      <th>Low_dash</th>\n      <th>Close_dash</th>\n      <th>Volume_dash</th>\n      <th>Market Cap_dash</th>\n    </tr>\n  </thead>\n  <tbody>\n    <tr>\n      <th>0</th>\n      <td>17-Sep-17</td>\n      <td>438.90</td>\n      <td>438.90</td>\n      <td>384.06</td>\n      <td>419.86</td>\n      <td>221828000.0</td>\n      <td>7,279,520,000</td>\n      <td>298.59</td>\n      <td>315.58</td>\n      <td>278.17</td>\n      <td>313.84</td>\n      <td>38081600.0</td>\n      <td>2,257,850,000</td>\n    </tr>\n    <tr>\n      <th>1</th>\n      <td>16-Sep-17</td>\n      <td>424.49</td>\n      <td>450.98</td>\n      <td>388.20</td>\n      <td>440.22</td>\n      <td>313583000.0</td>\n      <td>7,039,590,000</td>\n      <td>284.50</td>\n      <td>301.23</td>\n      <td>276.57</td>\n      <td>298.86</td>\n      <td>43702600.0</td>\n      <td>2,150,800,000</td>\n    </tr>\n    <tr>\n      <th>2</th>\n      <td>15-Sep-17</td>\n      <td>369.49</td>\n      <td>448.39</td>\n      <td>301.69</td>\n      <td>424.02</td>\n      <td>707231000.0</td>\n      <td>6,126,800,000</td>\n      <td>236.05</td>\n      <td>300.11</td>\n      <td>220.51</td>\n      <td>284.36</td>\n      <td>72695500.0</td>\n      <td>1,784,040,000</td>\n    </tr>\n    <tr>\n      <th>3</th>\n      <td>14-Sep-17</td>\n      <td>504.22</td>\n      <td>510.47</td>\n      <td>367.04</td>\n      <td>367.04</td>\n      <td>257431000.0</td>\n      <td>8,359,650,000</td>\n      <td>301.11</td>\n      <td>303.74</td>\n      <td>236.24</td>\n      <td>236.24</td>\n      <td>35013800.0</td>\n      <td>2,275,100,000</td>\n    </tr>\n    <tr>\n      <th>4</th>\n      <td>13-Sep-17</td>\n      <td>509.47</td>\n      <td>519.20</td>\n      <td>471.22</td>\n      <td>503.61</td>\n      <td>340344000.0</td>\n      <td>8,445,540,000</td>\n      <td>324.72</td>\n      <td>325.16</td>\n      <td>287.25</td>\n      <td>301.29</td>\n      <td>28322500.0</td>\n      <td>2,452,930,000</td>\n    </tr>\n  </tbody>\n</table>\n</div>"
     },
     "metadata": {},
     "execution_count": 27
    }
   ],
   "source": [
    "# alternatively you can set your suffixes when the merge occurs\n",
    "merge_alt_df = pd.merge(bitcoin_df, dash_df, on='Date', suffixes=(\"_bitcoin\", \"_dash\"))\n",
    "merge_alt_df.head()"
   ]
  },
  {
   "cell_type": "code",
   "execution_count": 29,
   "metadata": {
    "collapsed": true
   },
   "outputs": [],
   "source": [
    "# Collecting best open for Bitcoin and Dash\n",
    "best_bitcoin_open = merge_alt_df[\"Open_bitcoin\"].max()\n",
    "best_dash_open = merge_alt_df[\"Open_dash\"].max()\n",
    "\n",
    "# Collecting best close for Bitcoin and Dash\n",
    "best_bitcoin_close = merge_alt_df[\"Close_bitcoin\"].max()\n",
    "best_dash_close = merge_alt_df[\"Close_dash\"].max()\n",
    "\n",
    "# Collecting the total volume for Bitcoin and Dash\n",
    "total_bitcoin_volume = merge_alt_df[\"Volume_bitcoin\"].sum()\n",
    "total_dash_volume = merge_alt_df[\"Volume_dash\"].sum()"
   ]
  },
  {
   "cell_type": "code",
   "execution_count": 32,
   "metadata": {
    "collapsed": true
   },
   "outputs": [
    {
     "output_type": "execute_result",
     "data": {
      "text/plain": [
       "   Best Bitoin Open  Best Dash Open  Best Bitcoin Close  Best Dash Close  \\\n",
       "0            772.42          400.42              754.56           399.85   \n",
       "\n",
       "   Bitcoin Volume   Dash Volume  \n",
       "0    2.438305e+10  2.960278e+09  "
      ],
      "text/html": "<div>\n<style scoped>\n    .dataframe tbody tr th:only-of-type {\n        vertical-align: middle;\n    }\n\n    .dataframe tbody tr th {\n        vertical-align: top;\n    }\n\n    .dataframe thead th {\n        text-align: right;\n    }\n</style>\n<table border=\"1\" class=\"dataframe\">\n  <thead>\n    <tr style=\"text-align: right;\">\n      <th></th>\n      <th>Best Bitoin Open</th>\n      <th>Best Dash Open</th>\n      <th>Best Bitcoin Close</th>\n      <th>Best Dash Close</th>\n      <th>Bitcoin Volume</th>\n      <th>Dash Volume</th>\n    </tr>\n  </thead>\n  <tbody>\n    <tr>\n      <th>0</th>\n      <td>772.42</td>\n      <td>400.42</td>\n      <td>754.56</td>\n      <td>399.85</td>\n      <td>2.438305e+10</td>\n      <td>2.960278e+09</td>\n    </tr>\n  </tbody>\n</table>\n</div>"
     },
     "metadata": {},
     "execution_count": 32
    }
   ],
   "source": [
    "# Creating a summary DataFrame using above values\n",
    "\n",
    "df_summary = pd.DataFrame([[best_bitcoin_open, best_dash_open, best_bitcoin_close, best_dash_close, total_bitcoin_volume, total_dash_volume]], columns=['Best Bitoin Open', 'Best Dash Open', 'Best Bitcoin Close', 'Best Dash Close', 'Bitcoin Volume', 'Dash Volume'] )\n",
    "df_summary "
   ]
  },
  {
   "cell_type": "code",
   "execution_count": null,
   "metadata": {},
   "outputs": [],
   "source": []
  }
 ],
 "metadata": {
  "kernelspec": {
   "name": "python3",
   "display_name": "Python 3.6.10 64-bit ('PythonData': conda)",
   "metadata": {
    "interpreter": {
     "hash": "2bf60f7f62a9b17f7cccd910bdb7d19f5f505debd48b14e89e2e5eef6906d64c"
    }
   }
  },
  "language_info": {
   "codemirror_mode": {
    "name": "ipython",
    "version": 3
   },
   "file_extension": ".py",
   "mimetype": "text/x-python",
   "name": "python",
   "nbconvert_exporter": "python",
   "pygments_lexer": "ipython3",
   "version": "3.6.10-final"
  }
 },
 "nbformat": 4,
 "nbformat_minor": 2
}