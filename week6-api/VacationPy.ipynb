import numpy as np
import requests
import json

# Import API key