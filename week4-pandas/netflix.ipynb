{
 "metadata": {
  "language_info": {
   "codemirror_mode": {
    "name": "ipython",
    "version": 3
   },
   "file_extension": ".py",
   "mimetype": "text/x-python",
   "name": "python",
   "nbconvert_exporter": "python",
   "pygments_lexer": "ipython3",
   "version": "3.8.5-final"
  },
  "orig_nbformat": 2,
  "kernelspec": {
   "name": "python3",
   "display_name": "Python 3",
   "language": "python"
  }
 },
 "nbformat": 4,
 "nbformat_minor": 2,
 "cells": [
  {
   "source": [
    "import os\n",
    "import csv\n"
   ],
   "cell_type": "code",
   "metadata": {},
   "execution_count": null,
   "outputs": []
  },
  {
   "cell_type": "code",
   "execution_count": null,
   "metadata": {},
   "outputs": [],
   "source": [
    "csvpath = os.path.join('Resources', 'netflix_ratings.csv')\n",
    "csvpath\n"
   ]
  },
  {
   "cell_type": "code",
   "execution_count": null,
   "metadata": {},
   "outputs": [],
   "source": [
    "title = input('What show or movie are you looking for? ')\n",
    "title"
   ]
  },
  {
   "cell_type": "code",
   "execution_count": null,
   "metadata": {},
   "outputs": [],
   "source": [
    "with open(csvpath) as csvfile:\n",
    "\n",
    "    csvreader = csv.reader(csvfile, delimiter=',')\n",
    "   \n",
    "    # Read the header row first\n",
    "    csv_header = next(csvreader)\n",
    "    # print(f\"CSV Header: {csv_header}\")\n",
    "    \n",
    "    video_found = False\n",
    "\n",
    "    for row in csvreader:\n",
    "        # print(row)\n",
    "        if row[0] == title:\n",
    "            print(f\"{title} is rated {row[1]} with a rating of {row[3]}\")\n",
    "            video_found = True\n",
    "        if video_found:\n",
    "            break\n",
    "        # next(csvreader)\n",
    "    \n",
    "    if video_found == False:\n",
    "        print(f\"{title} could not be found\")"
   ]
  },
  {
   "cell_type": "code",
   "execution_count": null,
   "metadata": {},
   "outputs": [],
   "source": []
  }
 ]
}