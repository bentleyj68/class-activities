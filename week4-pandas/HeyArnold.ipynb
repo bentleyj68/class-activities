{
 "metadata": {
  "language_info": {
   "codemirror_mode": {
    "name": "ipython",
    "version": 3
   },
   "file_extension": ".py",
   "mimetype": "text/x-python",
   "name": "python",
   "nbconvert_exporter": "python",
   "pygments_lexer": "ipython3",
   "version": "3.6.10-final"
  },
  "orig_nbformat": 2,
  "kernelspec": {
   "name": "python3",
   "display_name": "Python 3.6.10 64-bit ('PythonData': conda)",
   "metadata": {
    "interpreter": {
     "hash": "2bf60f7f62a9b17f7cccd910bdb7d19f5f505debd48b14e89e2e5eef6906d64c"
    }
   }
  }
 },
 "nbformat": 4,
 "nbformat_minor": 2,
 "cells": [
  {
   "cell_type": "code",
   "execution_count": 2,
   "metadata": {},
   "outputs": [],
   "source": [
    "# Import Dependencies\n",
    "import pandas as pd\n"
   ]
  },
  {
   "cell_type": "code",
   "execution_count": 5,
   "metadata": {},
   "outputs": [
    {
     "output_type": "execute_result",
     "data": {
      "text/plain": [
       "  Characters_in_show colour_of_hair   Height  Football_Shaped_Head\n",
       "0             Arnold         blonde  average                  True\n",
       "1             Gerald          black  tallish                 False\n",
       "2              Helga         blonde  tallish                 False\n",
       "3             Phoebe          black    short                 False\n",
       "4             Harold        unknown     tall                 False\n",
       "5             Eugene            red    short                 False"
      ],
      "text/html": "<div>\n<style scoped>\n    .dataframe tbody tr th:only-of-type {\n        vertical-align: middle;\n    }\n\n    .dataframe tbody tr th {\n        vertical-align: top;\n    }\n\n    .dataframe thead th {\n        text-align: right;\n    }\n</style>\n<table border=\"1\" class=\"dataframe\">\n  <thead>\n    <tr style=\"text-align: right;\">\n      <th></th>\n      <th>Characters_in_show</th>\n      <th>colour_of_hair</th>\n      <th>Height</th>\n      <th>Football_Shaped_Head</th>\n    </tr>\n  </thead>\n  <tbody>\n    <tr>\n      <th>0</th>\n      <td>Arnold</td>\n      <td>blonde</td>\n      <td>average</td>\n      <td>True</td>\n    </tr>\n    <tr>\n      <th>1</th>\n      <td>Gerald</td>\n      <td>black</td>\n      <td>tallish</td>\n      <td>False</td>\n    </tr>\n    <tr>\n      <th>2</th>\n      <td>Helga</td>\n      <td>blonde</td>\n      <td>tallish</td>\n      <td>False</td>\n    </tr>\n    <tr>\n      <th>3</th>\n      <td>Phoebe</td>\n      <td>black</td>\n      <td>short</td>\n      <td>False</td>\n    </tr>\n    <tr>\n      <th>4</th>\n      <td>Harold</td>\n      <td>unknown</td>\n      <td>tall</td>\n      <td>False</td>\n    </tr>\n    <tr>\n      <th>5</th>\n      <td>Eugene</td>\n      <td>red</td>\n      <td>short</td>\n      <td>False</td>\n    </tr>\n  </tbody>\n</table>\n</div>"
     },
     "metadata": {},
     "execution_count": 5
    }
   ],
   "source": [
    "arnold_df = pd.DataFrame({\n",
    "    \"Characters_in_show\": [\"Arnold\", \"Gerald\", \"Helga\", \"Phoebe\", \"Harold\", \"Eugene\"],\n",
    "    \"colour_of_hair\": [\"blonde\", \"black\", \"blonde\", \"black\", \"unknown\", \"red\"],\n",
    "    \"Height\": [\"average\", \"tallish\", \"tallish\", \"short\", \"tall\", \"short\"],\n",
    "    \"Football_Shaped_Head\": [True, False, False, False, False, False]})\n",
    "\n",
    "arnold_df"
   ]
  },
  {
   "cell_type": "code",
   "execution_count": 8,
   "metadata": {},
   "outputs": [
    {
     "output_type": "execute_result",
     "data": {
      "text/plain": [
       "  Character Hair Colour   Height  Football Head\n",
       "0    Arnold      blonde  average           True\n",
       "1    Gerald       black  tallish          False\n",
       "2     Helga      blonde  tallish          False\n",
       "3    Phoebe       black    short          False\n",
       "4    Harold     unknown     tall          False"
      ],
      "text/html": "<div>\n<style scoped>\n    .dataframe tbody tr th:only-of-type {\n        vertical-align: middle;\n    }\n\n    .dataframe tbody tr th {\n        vertical-align: top;\n    }\n\n    .dataframe thead th {\n        text-align: right;\n    }\n</style>\n<table border=\"1\" class=\"dataframe\">\n  <thead>\n    <tr style=\"text-align: right;\">\n      <th></th>\n      <th>Character</th>\n      <th>Hair Colour</th>\n      <th>Height</th>\n      <th>Football Head</th>\n    </tr>\n  </thead>\n  <tbody>\n    <tr>\n      <th>0</th>\n      <td>Arnold</td>\n      <td>blonde</td>\n      <td>average</td>\n      <td>True</td>\n    </tr>\n    <tr>\n      <th>1</th>\n      <td>Gerald</td>\n      <td>black</td>\n      <td>tallish</td>\n      <td>False</td>\n    </tr>\n    <tr>\n      <th>2</th>\n      <td>Helga</td>\n      <td>blonde</td>\n      <td>tallish</td>\n      <td>False</td>\n    </tr>\n    <tr>\n      <th>3</th>\n      <td>Phoebe</td>\n      <td>black</td>\n      <td>short</td>\n      <td>False</td>\n    </tr>\n    <tr>\n      <th>4</th>\n      <td>Harold</td>\n      <td>unknown</td>\n      <td>tall</td>\n      <td>False</td>\n    </tr>\n  </tbody>\n</table>\n</div>"
     },
     "metadata": {},
     "execution_count": 8
    }
   ],
   "source": [
    "renamed_df = arnold_df.rename(columns={\"Characters_in_show\": \"Character\", \"colour_of_hair\": \"Hair Colour\",\n",
    "                                    \"Height\": \"Height\", \"Football_Shaped_Head\": \"Football Head\"})\n",
    "renamed_df.head()\n"
   ]
  },
  {
   "cell_type": "code",
   "execution_count": 9,
   "metadata": {},
   "outputs": [
    {
     "output_type": "execute_result",
     "data": {
      "text/plain": [
       "  Character  Football Head Hair Colour   Height\n",
       "0    Arnold           True      blonde  average\n",
       "1    Gerald          False       black  tallish\n",
       "2     Helga          False      blonde  tallish\n",
       "3    Phoebe          False       black    short\n",
       "4    Harold          False     unknown     tall"
      ],
      "text/html": "<div>\n<style scoped>\n    .dataframe tbody tr th:only-of-type {\n        vertical-align: middle;\n    }\n\n    .dataframe tbody tr th {\n        vertical-align: top;\n    }\n\n    .dataframe thead th {\n        text-align: right;\n    }\n</style>\n<table border=\"1\" class=\"dataframe\">\n  <thead>\n    <tr style=\"text-align: right;\">\n      <th></th>\n      <th>Character</th>\n      <th>Football Head</th>\n      <th>Hair Colour</th>\n      <th>Height</th>\n    </tr>\n  </thead>\n  <tbody>\n    <tr>\n      <th>0</th>\n      <td>Arnold</td>\n      <td>True</td>\n      <td>blonde</td>\n      <td>average</td>\n    </tr>\n    <tr>\n      <th>1</th>\n      <td>Gerald</td>\n      <td>False</td>\n      <td>black</td>\n      <td>tallish</td>\n    </tr>\n    <tr>\n      <th>2</th>\n      <td>Helga</td>\n      <td>False</td>\n      <td>blonde</td>\n      <td>tallish</td>\n    </tr>\n    <tr>\n      <th>3</th>\n      <td>Phoebe</td>\n      <td>False</td>\n      <td>black</td>\n      <td>short</td>\n    </tr>\n    <tr>\n      <th>4</th>\n      <td>Harold</td>\n      <td>False</td>\n      <td>unknown</td>\n      <td>tall</td>\n    </tr>\n  </tbody>\n</table>\n</div>"
     },
     "metadata": {},
     "execution_count": 9
    }
   ],
   "source": [
    "organised_df = renamed_df[[\"Character\", \"Football Head\", \"Hair Colour\", \"Height\"]]\n",
    "\n",
    "organised_df.head()"
   ]
  },
  {
   "cell_type": "code",
   "execution_count": null,
   "metadata": {},
   "outputs": [],
   "source": []
  }
 ]
}